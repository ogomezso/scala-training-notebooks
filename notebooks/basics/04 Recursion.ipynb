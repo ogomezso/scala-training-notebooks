{
 "cells": [
  {
   "cell_type": "markdown",
   "metadata": {},
   "source": [
    "# Recursion\n",
    "\n",
    "Hello and welcome to our first vault! Today we learn about recursion. You might be familiar with recursive functions from other programming languages or domains as well - the factorial function is a very simple example of recursion. Its defined basically as:\n",
    "* factorial(n) = 1, for all numbers that are smaller than or equal to 1\n",
    "* factorial(n) = n * factorial(n - 1), for all numbers greater than 1\n",
    "\n",
    "My point is, recursion is about solving problems by splitting them in smaller instances of the exact same problem. Let's compute factorial(3) for example:\n",
    "\n",
    "```\n",
    "factorial(3) = factorial(2) * 3     // we don't have a direct answer for factorial(3), so we need to compute factorial(2)\n",
    "             = factorial(1) * 2 * 3 // now we know that factorial(1) is equal to 1 so we can finally finish the computation\n",
    "             = 1 * 2 * 3\n",
    "             = 6\n",
    "```\n",
    "\n",
    "In Scala, the implementation looks like this:"
   ]
  },
  {
   "cell_type": "code",
   "execution_count": null,
   "metadata": {},
   "outputs": [],
   "source": [
    "def factorial(x: Int): Int = {  // Always specify the return type on recursive functions, otherwise you get compile errors!\n",
    "  if (x <= 1) 1                 // Try it by removing this function's return type and re-running the paragraph.\n",
    "  else x * factorial(x - 1)\n",
    "}"
   ]
  },
  {
   "cell_type": "markdown",
   "metadata": {},
   "source": [
    "### Stack Recursion\n",
    "\n",
    "In programming there are two types of recursion: stack and tail recursion. We'll discuss stack recursion first. A function is said to be stack-recursive if the recursive call occurs first. It doesn't need to be literraly the first thing you do in the function, it only means that you perform the recursive call before using the value it produces to compute the result. This leads to a growing stack of function calls:\n",
    "\n",
    "```\n",
    "factorial(4) = 4 * factorial(3)\n",
    "             = 4 * (3 * factorial(2))\n",
    "             = 4 * (3 * (2 * factorial(1)))\n",
    "             = 4 * (3 * (2 * 1) ...\n",
    "```\n",
    "\n",
    "Imagine how this looks when you call `factorial(100000)`. The JVM would have to remember 99999 function calls before it gets to solve the first one. Of course, the stack is limited because memory is limited. And this type of recurison often leads to stack overflow errors. Let's try it below:"
   ]
  },
  {
   "cell_type": "code",
   "execution_count": null,
   "metadata": {},
   "outputs": [],
   "source": [
    "// NOTE: After you run it, either comment the call and re-run it or select Cell -> Current Outputs -> Clear to get rid of the long error.\n",
    "factorial(100000)"
   ]
  },
  {
   "cell_type": "markdown",
   "metadata": {},
   "source": [
    "### Exercises\n",
    "\n",
    "Great, we know a few things about recursion, it's time to test our skills. Using stack recursion:\n",
    "1. Write a function that sums up all the integers from 0 to a given argument.\n",
    "2. Write a function that determines the gcd (greatest common divisor) of two given input numbers (e.g. gcd(81, 135) = 27)\n",
    "3. Write a function that determines the n'th Fibonacci number, where n is the given argument (e.g. fib(10) = 34)"
   ]
  },
  {
   "cell_type": "code",
   "execution_count": null,
   "metadata": {},
   "outputs": [],
   "source": [
    "// Replace the `???` with the actual implementation.\n",
    "def sumNats(n: Int): Int = ???\n",
    "\n",
    "// Replace the `???` with the actual implementation.\n",
    "def gcd(x: Int, y: Int): Int = ???\n",
    "\n",
    "// Replace the `???` with the actual implementation.\n",
    "def fib(n: Int): Int = ???"
   ]
  },
  {
   "cell_type": "markdown",
   "metadata": {},
   "source": [
    "### Tail Recursion\n",
    "\n",
    "Stack recursion is fine, but what do you do when you can't use it? We learned that computing `factorial(100000)` can't be done using it. This forces us to develop an iterative-like solution. We need to help the JVM compute everything in the same stack frame.\n",
    "\n",
    "In this case, we say that the recursive call occurs as the last call. You can think that the recursive call itself is the result or leads to a result without the need to keep track of each intermediary variable on the stack. Tail-recursivity is usually implemented with the help of an accumulator which keeps track of the (surprise) accumulated result. Try thinking of it as a variable used within a loop. Using an accumulator in our function would lead to the following code:"
   ]
  },
  {
   "cell_type": "code",
   "execution_count": null,
   "metadata": {},
   "outputs": [],
   "source": [
    "def factorial(x: Int, acc: Int = 1): Int = {\n",
    "  if (x <= 1) acc\n",
    "  else factorial(x - 1, x * acc)\n",
    "}\n",
    "factorial(100000) // Running this now works, but the result is 0 as the numbers are way to big and are overflowed."
   ]
  },
  {
   "cell_type": "markdown",
   "metadata": {},
   "source": [
    "And the call chain would look like this:\n",
    "\n",
    "```\n",
    "// We accumulate the result in the second argument, which defaults to 1.\n",
    "factorial(4, 1) = factorial(3, 4)\n",
    "                = factorial(2, 12)\n",
    "                = factorial(1, 24)\n",
    "                = 24\n",
    "```\n",
    "\n",
    "One more thing - when writing tail-recursive functions, prefix their definition with the annotation `@tailrec`. With this, the compiler will issue an error if your function is not tail-recursive. Bear in mind the fact that tail-recursive functions are optimized by the compiler. Although this annotation doesn't optimize anything by itself, it's useful to trigger an error if you're changing a function that's tail-recursive.\n",
    "\n",
    "```scala\n",
    "@tailrec def factorial(x: Int, acc: Int = 1): Int = ...\n",
    "```\n",
    "\n",
    "### Exercices\n",
    "\n",
    "Re-write the functions on previous exercise using tail-recursion. You will need to add the accumulator parameters as well. I will helpy you by adding the `@tailrec` annotation and the accumulator parameter on the first function, but please do the others yourself.\n",
    "\n",
    "Uncomment the `@tailrec` lines when you're done with an implementation. Btw, the acc here is called a default parameter in Scala - we'll learn about them more soon enough - but for now you can use them as below."
   ]
  },
  {
   "cell_type": "code",
   "execution_count": null,
   "metadata": {},
   "outputs": [],
   "source": [
    "import scala.annotation.tailrec\n",
    "\n",
    "// Replace the `???` with the actual implementation.\n",
    "// @tailrec\n",
    "def sumNats(n: Int, acc: Int = 1): Int = ???\n",
    "\n",
    "// Replace the `???` with the actual implementation.\n",
    "def gcd(x: Int, y: Int): Int = ???\n",
    "\n",
    "// Replace the `???` with the actual implementation.\n",
    "def fib(n: Int): Int = ???"
   ]
  },
  {
   "cell_type": "code",
   "execution_count": null,
   "metadata": {},
   "outputs": [],
   "source": []
  }
 ],
 "metadata": {
  "kernelspec": {
   "display_name": "Scala",
   "language": "scala",
   "name": "scala"
  },
  "language_info": {
   "codemirror_mode": "text/x-scala",
   "file_extension": ".scala",
   "mimetype": "text/x-scala",
   "name": "scala211",
   "nbconvert_exporter": "script",
   "pygments_lexer": "scala",
   "version": "2.11.11"
  }
 },
 "nbformat": 4,
 "nbformat_minor": 2
}
