{
 "cells": [
  {
   "cell_type": "markdown",
   "metadata": {},
   "source": [
    "# Expressions\n",
    "\n",
    "Welcome back! Today we're gonna study expressions in Scala. Expressions are present everywhere in Scala as we'll see in a moment. They help us controlling the code flow and produce values. Let's get to work."
   ]
  },
  {
   "cell_type": "markdown",
   "metadata": {},
   "source": [
    "### Operators\n",
    "\n",
    "You're familiar with operators. You know them from other programming languages. Scala has them as well:\n",
    "* arithmetic operators: +, -, \\*, /, %\n",
    "* relational operators: ==, !=, >, <, >=, <=\n",
    "* logical operators: &&, ||, !\n",
    "* bitwise operators: &, |, ^, ~, <<, >>, >>>\n",
    "* assignment operators: =, +=, -=\n",
    ".. and so on.\n",
    "\n",
    "Try them below:"
   ]
  },
  {
   "cell_type": "code",
   "execution_count": null,
   "metadata": {},
   "outputs": [],
   "source": [
    "3 + 5\n",
    "2 * 10\n",
    "5 == 5\n",
    "5 != 5\n",
    "true && false\n",
    "2 & 2\n",
    "val x = 42"
   ]
  },
  {
   "cell_type": "markdown",
   "metadata": {},
   "source": [
    "### Basic Expressions\n",
    "\n",
    "Awesome! We just used these operators to form our simplest, basic expressions. Besides combining plain values using operators we can also call functions or combine existing variables to form more complex expressions."
   ]
  },
  {
   "cell_type": "code",
   "execution_count": null,
   "metadata": {},
   "outputs": [],
   "source": [
    "x.toString\n",
    "val y = 37\n",
    "x + y"
   ]
  },
  {
   "cell_type": "markdown",
   "metadata": {},
   "source": [
    "### Exercises\n",
    "\n",
    "It's time for our first exercises. They might seem dumb but we wanna get used to creating simple expressions in Scala.\n",
    "\n",
    "1. Sum the numbers from 1 to 10.\n",
    "2. Write the string \"ababababab\" by calling a function instead of just writing it by hand. Hint: use the `*` function on `String`\n",
    "3. Compute factorial of 7"
   ]
  },
  {
   "cell_type": "code",
   "execution_count": null,
   "metadata": {},
   "outputs": [],
   "source": [
    "// Insert solution below this comment"
   ]
  },
  {
   "cell_type": "markdown",
   "metadata": {},
   "source": [
    "### Expressions vs. Statements\n",
    "\n",
    "Before moving on we need to make clear what we refer to when we think about expressions vs. when we think about statements.\n",
    "We say that *statements are executed*. So statements don't produce values that we can assign - they are simply executed and allow for code flow control. Imagine an if-clause from an imperative programming language like Java:\n",
    "\n",
    "```java\n",
    "if (x == 0) {\n",
    "    println(\"foo\");\n",
    "}\n",
    "```\n",
    "\n",
    "We also say that *expressions are evaluated*. They produce values that are useful for us. You know them - they usually represent the right-hand side of an assignment.\n",
    "```scala\n",
    "val x = 3 + 5 // 3 + 5 is an expression\n",
    "```\n",
    "\n",
    "Remember: you can't assign a statement to a variable."
   ]
  },
  {
   "cell_type": "markdown",
   "metadata": {},
   "source": [
    "### Expressions Everywhere\n",
    "\n",
    "Great! We saw how it's done in Java, but what about Scala? Well, in Scala almost everything is an expression. You have if-expressions, for-comprehensions, while-expressions, hell even try-catch expressions. We'll meet them all along the course, but for now let's see the first 3."
   ]
  },
  {
   "cell_type": "code",
   "execution_count": null,
   "metadata": {},
   "outputs": [],
   "source": [
    "val random = new scala.util.Random()\n",
    "\n",
    "// Run me multiple times!\n",
    "val x = if (random.nextBoolean() == true) 42 else 0\n",
    "// My point is, the if-construct in Scala produces a value! In Java or C for example,\n",
    "// you would use a ternary operator to write this stuff."
   ]
  },
  {
   "cell_type": "code",
   "execution_count": null,
   "metadata": {},
   "outputs": [],
   "source": [
    "var i = 0\n",
    "var sum = 0\n",
    "\n",
    "// Even while loops are expressions! Try assigning them to a value and printing it.\n",
    "while (i <= 10) {\n",
    "  i += 1\n",
    "  sum += i\n",
    "}\n",
    "// It should print `()` which represents the unit type."
   ]
  },
  {
   "cell_type": "markdown",
   "metadata": {},
   "source": [
    "For the last one - for-expressions we'll leave you with an exercise. The syntax is as follows:\n",
    "\n",
    "```scala\n",
    "for (x <- 1 to 10) {\n",
    "  // do something\n",
    "}\n",
    "```\n",
    "Your assignment is to compute both the sum of numbers from 1 to 10 and factorial of 7 using for-expressions. Hint - you can change 1 and 10 to whatever values you need. For now, try to make it work and don't lose yourself in documentation around for comprehensions - we'll study them in detail in another lesson."
   ]
  },
  {
   "cell_type": "code",
   "execution_count": null,
   "metadata": {},
   "outputs": [],
   "source": [
    "// Solve the exercise using for-comprehensions below."
   ]
  },
  {
   "cell_type": "markdown",
   "metadata": {},
   "source": [
    "### Multi-line Expressions & Code-Blocks\n",
    "\n",
    "Leave a dangling operator at the end of the line to define a multi-line expression:\n",
    "```scala\n",
    "1 +\n",
    "2\n",
    "```\n",
    "\n",
    "Try them:"
   ]
  },
  {
   "cell_type": "code",
   "execution_count": null,
   "metadata": {},
   "outputs": [],
   "source": [
    "1 +\n",
    "2"
   ]
  },
  {
   "cell_type": "markdown",
   "metadata": {},
   "source": [
    "Code blocks are simply formed by code wrapped with curly braces `{}`. You can assign a code block to a variable. Its value its equal to the value of its last expression. Check them out:"
   ]
  },
  {
   "cell_type": "code",
   "execution_count": null,
   "metadata": {},
   "outputs": [],
   "source": [
    "val x = {\n",
    "  val condition = random.nextBoolean()\n",
    "  if (condition) 42 else 0\n",
    "}"
   ]
  },
  {
   "cell_type": "markdown",
   "metadata": {},
   "source": [
    "### Exercises\n",
    "\n",
    "1. Write your name on separate lines (e.g. if you're called John Doe you should span the expression on two lines) using multi-line expressions.\n",
    "2. Compute the sum of numbers from 1 to 100 into a value. Hint - you should use a code block.\n",
    "3. What is the value of x in the following case?\n",
    "```scala\n",
    "val x = {\n",
    "  if (random.nextBoolean()) 239 else 986\n",
    "  for (y <- 1 to 177) y\n",
    "  0\n",
    "}\n",
    "```"
   ]
  },
  {
   "cell_type": "code",
   "execution_count": null,
   "metadata": {},
   "outputs": [],
   "source": [
    "// Solve your exercises below this comment."
   ]
  }
 ],
 "metadata": {
  "kernelspec": {
   "display_name": "Scala",
   "language": "scala",
   "name": "scala"
  },
  "language_info": {
   "codemirror_mode": "text/x-scala",
   "file_extension": ".scala",
   "mimetype": "text/x-scala",
   "name": "scala211",
   "nbconvert_exporter": "script",
   "pygments_lexer": "scala",
   "version": "2.11.11"
  }
 },
 "nbformat": 4,
 "nbformat_minor": 2
}
