{
 "cells": [
  {
   "cell_type": "markdown",
   "metadata": {},
   "source": [
    "# Smart String Manipulation\n",
    "\n",
    "You know strings - they're present everywhere. All programming languages have them and all programming revolves around them. Today we learn about Strings in Scala. A String in Scala is represented as a list of characters. We'll see that a bunch of operations are enabled by this representation. For now, let's focus on the basic stuff."
   ]
  },
  {
   "cell_type": "code",
   "execution_count": null,
   "metadata": {},
   "outputs": [],
   "source": [
    "val str: String = \"Hello, I am learning Scala\"\n",
    "str.charAt(2)\n",
    "str.substring(7, 11)\n",
    "str.split(\" \")\n",
    "str.startsWith(\"Hello\")\n",
    "str.replaceAll(\" \", \"-\")\n",
    "str.toLowerCase\n",
    "str.length"
   ]
  },
  {
   "cell_type": "markdown",
   "metadata": {},
   "source": [
    "There's a ton of operations available, probably everything that you can think of has already been implemented. Those were the more Java-like functions. Scala adds more on top of those, such as:"
   ]
  },
  {
   "cell_type": "code",
   "execution_count": null,
   "metadata": {},
   "outputs": [],
   "source": [
    "val str: String = \"2\"\n",
    "str.toInt\n",
    "'a' +: str :+ 'z'\n",
    "\"abc\".reverse\n",
    "\"abc\".take(2)\n",
    "\n",
    "val array = Array(1, 2, 3)\n",
    "array.mkString(\"+\")"
   ]
  },
  {
   "cell_type": "markdown",
   "metadata": {},
   "source": [
    "### Exercise\n",
    "\n",
    "Print the numbers from 1 to 100 with a dash between them. Use a String function. Tip: you can use the `to` function to generate the list of numbers from 1 to 100."
   ]
  },
  {
   "cell_type": "code",
   "execution_count": null,
   "metadata": {},
   "outputs": [],
   "source": [
    "// Solve the exercise below."
   ]
  },
  {
   "cell_type": "markdown",
   "metadata": {},
   "source": [
    "### Interpolators\n",
    "\n",
    "Time to get to the cool stuff. Interpolators are Scala's way of letting users perform the really advanced work on String instances. There are a few predefined interpolators in Scala: `s`, `f` and `raw`. Let's see each one of them in detail.\n",
    "\n",
    "The `s` interpolator allows users to use (expand) variables directly inside a string.\n",
    "\n",
    "```scala\n",
    "val x = 0\n",
    "val str = s\"x is ${x}\"\n",
    "```\n",
    "\n",
    "To use an interpolator on a string, simply prefix the string with it. In our example we're replacing `${x}` with the actual value of x. Cool, right? You can omit the curly brackets if you have a simple variable name, but for more complex expansions they are required:\n",
    "\n",
    "```scala\n",
    "val name = \"John\"\n",
    "val str = s\"The name's length equals to ${name}.\"\n",
    "```\n",
    "\n",
    "Try it out:"
   ]
  },
  {
   "cell_type": "code",
   "execution_count": null,
   "metadata": {},
   "outputs": [],
   "source": [
    "val numbers = 1 to 100\n",
    "s\"The numbers from 1 to 100 are: ${numbers}\""
   ]
  },
  {
   "cell_type": "markdown",
   "metadata": {},
   "source": [
    "The other two predefined interpolators present in Scala are `f` and `raw`.\n",
    "\n",
    "`f` stands for formatted strings. It's really similar to `printf`. Oh, and watch out - it can check for the corectness of the type as well - if you're expecting an integer in your string then you can't pass in a double for example:\n",
    "\n",
    "```scala\n",
    "val speed = 1.2f\n",
    "f\"Daniel can eat $speed%2.2f burgers per minute.\" \n",
    "f\"And the integer is $speed%3d\" // Won't compile, the format requires an Int\n",
    "```\n",
    "\n",
    "`raw` is for unespaced strings so it will print the strings inside it literally.\n",
    "\n",
    "```scala\n",
    "raw\"This is a \\n newline.\"\n",
    "```\n",
    "\n",
    "Try me:"
   ]
  },
  {
   "cell_type": "code",
   "execution_count": null,
   "metadata": {},
   "outputs": [],
   "source": [
    "val speed = 1.2f\n",
    "f\"Daniel can eat $speed%2.2f burgers / minute.\"\n",
    "raw\"This is a \\n newline.\""
   ]
  },
  {
   "cell_type": "code",
   "execution_count": null,
   "metadata": {},
   "outputs": [],
   "source": []
  }
 ],
 "metadata": {
  "kernelspec": {
   "display_name": "Scala",
   "language": "scala",
   "name": "scala"
  },
  "language_info": {
   "codemirror_mode": "text/x-scala",
   "file_extension": ".scala",
   "mimetype": "text/x-scala",
   "name": "scala211",
   "nbconvert_exporter": "script",
   "pygments_lexer": "scala",
   "version": "2.11.11"
  }
 },
 "nbformat": 4,
 "nbformat_minor": 2
}
