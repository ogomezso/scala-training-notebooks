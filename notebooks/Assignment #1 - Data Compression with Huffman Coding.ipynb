{
 "cells": [
  {
   "cell_type": "markdown",
   "metadata": {},
   "source": [
    "# Assignment #1: Data Compression\n",
    "\n",
    "In this assignment we're going to write a simple data compressor in Scala. You will have the chance to practice:\n",
    "* the Scala fundamentals\n",
    "* object-oriented principles in Scala\n",
    "* immutable data structures\n",
    "* string manipulation\n",
    "* data compression!"
   ]
  },
  {
   "cell_type": "markdown",
   "metadata": {},
   "source": [
    "## Intro\n",
    "\n",
    "There are smart ways to encode strings of text for space efficiency - and by extension, any piece of data, as we can split the data in one byte or two byte chunks.\n",
    "\n",
    "Look at this piece of text: **BACADAEAFABBAAAGH**. Considering each character as one byte, this uncompressed text takes 17 bytes = 136 bits. If we take a look at the fact that it only contains characters from A to H, we can use 3 bits per character instead of 8:\n",
    "\n",
    "||||\n",
    "|---|---|---|---|\n",
    "|A=000   |B=001   |C=010   |D=011   |\n",
    "|E=100   |F=101   |G=110   |H=111   |\n",
    "\n",
    "which brings the total space down to 51 bits.\n",
    "\n",
    "A better, smarter way of encoding the characters is by taking a look at _how often each character occurs_ in the original text. What would this look like if more frequent characters took fewer bits and less frequent characters took more bits to encode? Example:\n",
    "\n",
    "||||\n",
    "|---|---|---|---|\n",
    "|A=0 |B=100|C=1010|D=1011|\n",
    "|E=1100|F=1101|G=1110|H=1111|\n",
    "\n",
    "With this encoding, we need only 41 bits to encode the text, compressing the original size by more than 3 times!\n",
    "\n",
    "**This is our goal for this assignment - how to find such an encoding and how to compress and decompress text.** We will implement a classic compression technique known as [Huffman encoding](https://en.wikipedia.org/wiki/Huffman_coding). We will guide you on how to define and implement the relevnt data structures and how to progress with encoding your own pieces of text."
   ]
  },
  {
   "cell_type": "markdown",
   "metadata": {},
   "source": [
    "## How this works\n",
    "\n",
    "We'll go through the technique here, step by step. We'll use \"BACADAEAFABBAAAGH\" as an example.\n",
    "\n",
    "### Building the Huffman data  structures\n",
    "\n",
    "The algorithm works as follows:\n",
    "\n",
    "**Step 1**. The text to encode is converted into pairs of (character, number of occurrences of that character). The idea of Huffman encoding is that more frequent characters will have shorter codes.\n",
    "\n",
    "    \"BACADAEAFABBAAAGH\" = [{A|8}, {B|3}, {H|1}, {G|1}, {F|1}, {E|1}, {D|1}, {C|1}]\n",
    "    read {H|1} as \"H appears 1 times in the text\"\n",
    "\n",
    "**Step 2**. These pairs are sorted in ascending order by the frequency of their characters and stored as Huffman \"nodes\" in a binary tree. The nodes are all leaves for now. We store all the nodes into this sorted list as a primitive priority queue.\n",
    "\n",
    "    result = [{H|1}, {G|1}, {F|1}, {E|1}, {D|1}, {C|1}, {B|3}, {A|8}]\n",
    "\n",
    "**Step 3**. The two pairs with the lowest frequency are extracted from the queue and combined into a higher level Huffman tree node as the pair (the combined set of the two nodes' characters, the sum of the two nodes' frequencies).\n",
    "\n",
    "    {H|1} + {G|1} = {HG|2}\n",
    "\n",
    "**Step 4**. Insert the new Huffman node into the queue and keep the sorted property of the queue. Remember, the sorting criterion is the ascending order of the Huffman nodes' frequencies.\n",
    "\n",
    "    queue = [{F|1}, {E|1}, {D|1}, {C|1}, {HG|2}, {B|3}, {A|8}]\n",
    "    \n",
    "    {HG|2} has\n",
    "        {H|1}\n",
    "        {G|1}\n",
    "\n",
    "    ^^^ this indented style is how we'll format the nodes in the hierarchy:\n",
    "        the greated the indent, the lower the nodes will be in the tree.\n",
    "        first value {H|1} is the left node, {G|1} is the right node\n",
    "\n",
    "**Repeat steps 3 and 4 until there is only one node in the queue**. That will be the root of the Huffman encoding tree.\n",
    "\n",
    "    iteration:\n",
    "    \n",
    "        before: [{F|1}, {E|1}, {D|1}, {C|1}, {HG|2}, {B|3}, {A|8}]\n",
    "        {F|1} + {E|1} = {FE|2}\n",
    "        after: [{D|1}, {C|1}, {FE|2}, {HG|2}, {B|3}, {A|8}]\n",
    "        \n",
    "        {HG|2} has\n",
    "            {H|1}\n",
    "            {G|1}\n",
    "            \n",
    "        {FE|2} has\n",
    "            {F|1}\n",
    "            {E|1}\n",
    "\n",
    "see how the next two nodes are combined into one, much like the previous iteration.\n",
    "\n",
    "    iteration:\n",
    "    \n",
    "        before: [{D|1}, {C|1}, {FE|2}, {HG|2}, {B|3}, {A|8}]\n",
    "        {D|1} + {C|1} = {DC|2}\n",
    "        after: [{DC|2}, {FE|2}, {HG|2}, {B|3}, {A|8}]\n",
    "        \n",
    "        {HG|2} has\n",
    "            {H|1}\n",
    "            {G|1}\n",
    "            \n",
    "        {FE|2} has\n",
    "            {F|1}\n",
    "            {E|1}\n",
    "            \n",
    "        {DC|2} has\n",
    "            {D|1}\n",
    "            {C|1}\n",
    "\n",
    "Same thing.\n",
    "\n",
    "    iteration:\n",
    "    \n",
    "        before: [{DC|2}, {FE|2}, {HG|2}, {B|3}, {A|8}]\n",
    "        {DC|2} + {FE|2} = {DCFE|4}\n",
    "        after: [{HG|2}, {B|3}, {DCFE|4}, {A|8}]\n",
    "        \n",
    "        {HG|2} has\n",
    "            {H|1}\n",
    "            {G|1}\n",
    "        {DCFE|4} has\n",
    "            {FE|2} which has\n",
    "                {F|1}\n",
    "                {E|1}\n",
    "            {DC|2} which has\n",
    "                {D|1}\n",
    "                {C|1}\n",
    "\n",
    "Now here, we have two higher nodes combined into an even higher node with 4 characters in it.\n",
    "\n",
    "    iteration:\n",
    "    \n",
    "        before: [{HG|2}, {B|3}, {DCFE|4}, {A|8}]\n",
    "        {HG|2} + {B|3} = {HGB|5}\n",
    "        after: [{DCFE|4}, {HGB|5}, {A|8}]\n",
    "        \n",
    "        {HGB|5} has\n",
    "            {B|3} and\n",
    "            {HG|2} which has\n",
    "                {H|1}\n",
    "                {G|1}\n",
    "        {DCFE|4} has\n",
    "            {FE|2} which has\n",
    "                {F|1}\n",
    "                {E|1}\n",
    "            {DC|2} which has\n",
    "                {D|1}\n",
    "                {C|1}\n",
    "\n",
    "This iteration is with a higher node and a simple node. Look how the tree is starting to take shape.\n",
    "\n",
    "    iteration:\n",
    "    \n",
    "        before: [{DCFE|4}, {HGB|5}, {A|8}]\n",
    "        {DCFE|4} + {HGB|5} = {DCFEHGB|9}\n",
    "        after: [{A|8}, {DCFEHGB|9}]\n",
    "        \n",
    "        {DCFEHGB|9} has \n",
    "            {DCFE|4} which has\n",
    "                {FE|2} which has\n",
    "                    {F|1}\n",
    "                    {E|1}\n",
    "                {DC|2} which has\n",
    "                    {D|1}\n",
    "                    {C|1}\n",
    "            {HGB|5} which has\n",
    "                {B|3} and\n",
    "                {HG|2} which has\n",
    "                    {H|1}\n",
    "                    {G|1}\n",
    "\n",
    "Almost there, just one more merge:\n",
    "\n",
    "        before:[{A|8}, {DCFEHGB|9}]\n",
    "        {DCFEHGB|9} + {A|8} = {DCFEHGBA|17}\n",
    "        after: [{DCFEHGBA|17}]\n",
    "\n",
    "        {DCFEHGBA|17} has\n",
    "            {A|9} and\n",
    "            {DCFEHGB|9} which has \n",
    "                {DCFE|4} which has\n",
    "                    {FE|2} which has\n",
    "                        {F|1}\n",
    "                        {E|1}\n",
    "                    {DC|2} which has\n",
    "                        {D|1}\n",
    "                        {C|1}\n",
    "                {HGB|5} which has\n",
    "                    {B|3} and\n",
    "                    {HG|2} which has\n",
    "                        {H|1}\n",
    "                        {G|1}\n",
    "\n",
    "And the Huffman tree is complete as the queue only has one node left. That will be the root of the tree."
   ]
  },
  {
   "cell_type": "markdown",
   "metadata": {},
   "source": [
    "\n",
    "### Encoding a character\n",
    "\n",
    "Now that we have the Huffman tree set, encoding a character means traversing the Huffman tree. Let's encode \"AB\".\n",
    "\n",
    "**Step 1.** Start from the root of the Huffman tree and with the empty string as the encoding.\n",
    "\n",
    "        A = \"\"\n",
    "        \n",
    "        current node:\n",
    "        {DCFEHGBA|17}\n",
    "            {A|9}\n",
    "            {DCFEHGB|9} \n",
    "                {DCFE|4} \n",
    "                    {FE|2}\n",
    "                        {F|1}\n",
    "                        {E|1}\n",
    "                    {DC|2}\n",
    "                        {D|1}\n",
    "                        {C|1}\n",
    "                {HGB|5}\n",
    "                    {B|3}\n",
    "                    {HG|2}\n",
    "                        {H|1}\n",
    "                        {G|1}\n",
    "\n",
    "**Step 2.** Find which child (left or right) of this node contains the desired character. If it's the left child, append \"0\" to the encoding. If it's the right child, append \"1\". \n",
    "\n",
    "        A = \"1\"\n",
    "        \n",
    "**Step 3.** Move to the new node in the Huffman tree.\n",
    "\n",
    "        current node: {A|9}\n",
    "        \n",
    "**Step 4.** Repeat steps 2 and 3 until you are at a leaf node. \n",
    "\n",
    "        (nothing to do)\n",
    "        \n",
    "**Step 5.** Write down the encoding, move to the root node again and go back to step 1 for the next character in your text.\n",
    "\n",
    "        A = \"1\"\n",
    "        \n",
    "    iteration:\n",
    "    \n",
    "        B = \"\", current node:\n",
    "        \n",
    "        {DCFEHGBA|17}\n",
    "            {A|9}\n",
    "            {DCFEHGB|9} \n",
    "                {DCFE|4} \n",
    "                    {FE|2}\n",
    "                        {F|1}\n",
    "                        {E|1}\n",
    "                    {DC|2}\n",
    "                        {D|1}\n",
    "                        {C|1}\n",
    "                {HGB|5}\n",
    "                    {B|3}\n",
    "                    {HG|2}\n",
    "                        {H|1}\n",
    "                        {G|1}\n",
    "\n",
    "    iteration:\n",
    "    \n",
    "        B = \"1\", current node:\n",
    "        {DCFEHGB|9} \n",
    "            {DCFE|4} \n",
    "                {FE|2}\n",
    "                    {F|1}\n",
    "                    {E|1}\n",
    "                {DC|2}\n",
    "                    {D|1}\n",
    "                    {C|1}\n",
    "            {HGB|5}\n",
    "                {B|3}\n",
    "                {HG|2}\n",
    "                    {H|1}\n",
    "                    {G|1}\n",
    "                        \n",
    "    iteration:\n",
    "    \n",
    "        B = \"11\", current node:\n",
    "        {HGB|5}\n",
    "            {B|3}\n",
    "            {HG|2}\n",
    "                {H|1}\n",
    "                {G|1}\n",
    "                \n",
    "    iteration:\n",
    "    \n",
    "        B = \"110\", current node: {B|3}, stop.\n"
   ]
  },
  {
   "cell_type": "markdown",
   "metadata": {},
   "source": [
    "### Decoding text\n",
    "\n",
    "The binary sequence will be essentially the way that you will need to traverse the Huffman tree to _retrieve_ the characters. \n",
    "\n",
    "**Step 1.** Start from the root node in the Huffman tree.\n",
    "\n",
    "**Step 2.** Follow the binary sequence in your encoded text, bit by bit. If the first remaining bit in the encoded string is a 0, go left in the Huffman tree. If it's a 1, go right.\n",
    "\n",
    "**Step 3.** Once you reach a leaf node, write down the letter contained within and go back to step 1 and carry on with the remaining binary string.\n",
    "\n",
    "Example: say we want back the text \"AB\" from the binary encoding 0110.\n",
    "\n",
    "        coding: 0110\n",
    "        tree:\n",
    "        {DCFEHGBA|17}\n",
    "            {A|9}\n",
    "            {DCFEHGB|9} \n",
    "                {DCFE|4} \n",
    "                    {FE|2}\n",
    "                        {F|1}\n",
    "                        {E|1}\n",
    "                    {DC|2}\n",
    "                        {D|1}\n",
    "                        {C|1}\n",
    "                {HGB|5}\n",
    "                    {B|3}\n",
    "                    {HG|2}\n",
    "                        {H|1}\n",
    "                        {G|1}\n",
    "                        \n",
    "       0 = left, currently at {A|9}\n",
    "       got A\n",
    "       1 = right, currently at {DCFEHGB|9}\n",
    "       1 = right, currently at {HGB|5}\n",
    "       0 = left, currently at {B|3}\n",
    "       got B\n",
    "\n",
    "       result: AB"
   ]
  },
  {
   "cell_type": "markdown",
   "metadata": {},
   "source": [
    "## Part 1: the basic data structures\n",
    "\n",
    "We'll define here a simple data structure that will allow us to find a good encoding for Huffman compression. We'll define a small \"node\" data structure (we'll call it `HuffmanNode`) which contains two fields: `chars`, which will be a `String`, and `occurrences`, which will be an `Int`. Define this below. We're going to expand this definition (and redefine `HuffmanNode`) as we go along."
   ]
  },
  {
   "cell_type": "code",
   "execution_count": 34,
   "metadata": {},
   "outputs": [],
   "source": [
    "/*\n",
    "    YOUR CODE HERE\n",
    "    \n",
    "    Define a simple HuffmanNode class with two fields: chars = a String, and occurrences = an Int.\n",
    "*/"
   ]
  },
  {
   "cell_type": "code",
   "execution_count": 35,
   "metadata": {
    "scrolled": false
   },
   "outputs": [
    {
     "name": "stdout",
     "output_type": "stream",
     "text": [
      "ABC\n",
      "3\n"
     ]
    },
    {
     "data": {
      "text/plain": [
       "\u001b[36mnode\u001b[39m: \u001b[32mHuffmanNode\u001b[39m = {ABC|3}"
      ]
     },
     "execution_count": 35,
     "metadata": {},
     "output_type": "execute_result"
    }
   ],
   "source": [
    "// TEST\n",
    "val node = new HuffmanNode(\"ABC\", 3)\n",
    "println(node.chars)\n",
    "println(node.occurrences)"
   ]
  },
  {
   "cell_type": "markdown",
   "metadata": {},
   "source": [
    "**Expected result:**<br/>\n",
    "\n",
    "    ABC\n",
    "    3"
   ]
  },
  {
   "cell_type": "markdown",
   "metadata": {},
   "source": [
    "Now we need to make these nodes comparable by their occurrences values. Define a trait called `HuffmanComparable` with two methods:\n",
    "* a method `absoluteValue` which returns and Int - leave that abstract\n",
    "* a method `compareTo` which receives a `HuffmanComparable` - this will compare the absolute values"
   ]
  },
  {
   "cell_type": "code",
   "execution_count": 36,
   "metadata": {},
   "outputs": [
    {
     "data": {
      "text/plain": [
       "defined \u001b[32mtrait\u001b[39m \u001b[36mHuffmanComparable\u001b[39m"
      ]
     },
     "execution_count": 36,
     "metadata": {},
     "output_type": "execute_result"
    }
   ],
   "source": [
    "trait HuffmanComparable {\n",
    "    // YOUR CODE HERE\n",
    "    // a method absoluteValue\n",
    "    // a method compareTo\n",
    "}"
   ]
  },
  {
   "cell_type": "markdown",
   "metadata": {},
   "source": [
    "Now let's redefine `HuffmanNode` by taking into account all the properties described in the technique. Make `HuffmanNode` have two more fields (for the left and right child nodes) and make it extend the trait you just defined.\n",
    "\n",
    "**Optional:** If you find it valuable, define a companion for `HuffmanNode` with one (or more) `apply` factory methods - they might come in handy later."
   ]
  },
  {
   "cell_type": "code",
   "execution_count": 36,
   "metadata": {},
   "outputs": [
    {
     "name": "stderr",
     "output_type": "stream",
     "text": [
      "cmd36.sc:13: too many arguments for constructor HuffmanNode: ()Helper.this.HuffmanNode\n",
      "val nodeA = new HuffmanNode(\"A\", 2)\n",
      "            ^cmd36.sc:14: too many arguments for constructor HuffmanNode: ()Helper.this.HuffmanNode\n",
      "val nodeB = new HuffmanNode(\"B\", 3)\n",
      "            ^cmd36.sc:16: too many arguments for constructor HuffmanNode: ()Helper.this.HuffmanNode\n",
      "val parent = new HuffmanNode(\"AB\", 5, nodeA, nodeB)\n",
      "             ^cmd36.sc:6: not found: value chars\n",
      "    override def toString: String = \"{\" + chars + \"|\" + occurrences + \"}\"\n",
      "                                          ^cmd36.sc:6: not found: value occurrences\n",
      "    override def toString: String = \"{\" + chars + \"|\" + occurrences + \"}\"\n",
      "                                                        ^"
     ]
    },
    {
     "ename": "",
     "evalue": "",
     "output_type": "error",
     "traceback": [
      "Compilation Failed"
     ]
    }
   ],
   "source": [
    "class HuffmanNode {\n",
    "\n",
    "    // YOUR CODE HERE - add all the fields, make it extend the HuffmanComparable trait, and implement the methods\n",
    "\n",
    "    // we added this for pretty printing - toString is a special method in the JVM\n",
    "    override def toString: String = \"{\" + chars + \"|\" + occurrences + \"}\"\n",
    "}\n",
    "\n",
    "// YOUR CODE HERE - OPTIONAL - add a companion here\n",
    "\n",
    "\n",
    "// TEST code\n",
    "val nodeA = new HuffmanNode(\"A\", 2)\n",
    "val nodeB = new HuffmanNode(\"B\", 3)\n",
    "val comparison = nodeA compareTo nodeB\n",
    "val parent = new HuffmanNode(\"AB\", 5, nodeA, nodeB)"
   ]
  },
  {
   "cell_type": "markdown",
   "metadata": {},
   "source": [
    "## Part 2: The priority queue\n",
    "\n",
    "Here is the following trait"
   ]
  },
  {
   "cell_type": "code",
   "execution_count": 38,
   "metadata": {},
   "outputs": [
    {
     "data": {
      "text/plain": [
       "defined \u001b[32mtrait\u001b[39m \u001b[36mHuffmanPQ\u001b[39m"
      ]
     },
     "execution_count": 38,
     "metadata": {},
     "output_type": "execute_result"
    }
   ],
   "source": [
    "trait HuffmanPQ {\n",
    "    def add(node: HuffmanNode): HuffmanPQ\n",
    "    def head: HuffmanNode\n",
    "    def tail: HuffmanPQ\n",
    "    def pop: HuffmanPQ\n",
    "    def listElements: String // this will list all elements in a comma-separated string\n",
    "    \n",
    "    // we wrote this for pretty printing, no need to change\n",
    "    override def toString: String = \"[\" + listElements + \"]\"\n",
    "}"
   ]
  },
  {
   "cell_type": "markdown",
   "metadata": {},
   "source": [
    "Let's extend this trait by providing an empty queue implementation and a non-empty implementation."
   ]
  },
  {
   "cell_type": "code",
   "execution_count": 38,
   "metadata": {},
   "outputs": [
    {
     "name": "stderr",
     "output_type": "stream",
     "text": [
      "cmd38.sc:1: object creation impossible, since:\n",
      "it has 5 unimplemented members.\n",
      "/** As seen from object EmptyPQ, the missing signatures are as follows.\n",
      " *  For convenience, these are usable as stub implementations.\n",
      " */\n",
      "  def add(node: cmd38Wrapper.this.cmd37.cmd15.wrapper.HuffmanNode): cmd38Wrapper.this.cmd37.wrapper.HuffmanPQ = ???\n",
      "  def head: cmd38Wrapper.this.cmd37.cmd15.wrapper.HuffmanNode = ???\n",
      "  def listElements: String = ???\n",
      "  def pop: cmd38Wrapper.this.cmd37.wrapper.HuffmanPQ = ???\n",
      "  def tail: cmd38Wrapper.this.cmd37.wrapper.HuffmanPQ = ???\n",
      "\n",
      "object EmptyPQ extends HuffmanPQ {\n",
      "       ^cmd38.sc:5: class ConsPQ needs to be abstract, since:\n",
      "it has 5 unimplemented members.\n",
      "/** As seen from class ConsPQ, the missing signatures are as follows.\n",
      " *  For convenience, these are usable as stub implementations.\n",
      " */\n",
      "  def add(node: cmd38Wrapper.this.cmd37.cmd15.wrapper.HuffmanNode): cmd38Wrapper.this.cmd37.wrapper.HuffmanPQ = ???\n",
      "  def head: cmd38Wrapper.this.cmd37.cmd15.wrapper.HuffmanNode = ???\n",
      "  def listElements: String = ???\n",
      "  def pop: cmd38Wrapper.this.cmd37.wrapper.HuffmanPQ = ???\n",
      "  def tail: cmd38Wrapper.this.cmd37.wrapper.HuffmanPQ = ???\n",
      "\n",
      "class ConsPQ(/* YOUR CODE HERE members if you need them */) extends HuffmanPQ {\n",
      "      ^"
     ]
    },
    {
     "ename": "",
     "evalue": "",
     "output_type": "error",
     "traceback": [
      "Compilation Failed"
     ]
    }
   ],
   "source": [
    "object EmptyPQ extends HuffmanPQ {\n",
    "    // YOUR CODE HERE implement the abstract methods \n",
    "}\n",
    "\n",
    "class ConsPQ(/* YOUR CODE HERE members if you need them */) extends HuffmanPQ {\n",
    "    // YOUR CODE HERE override the abstract methods\n",
    "}"
   ]
  },
  {
   "cell_type": "code",
   "execution_count": 27,
   "metadata": {},
   "outputs": [
    {
     "data": {
      "text/plain": [
       "\u001b[36mempty\u001b[39m: \u001b[32mEmptyPQ\u001b[39m.type = []\n",
       "\u001b[36moneElement\u001b[39m: \u001b[32mHuffmanPQ\u001b[39m = [{A|2}, ]\n",
       "\u001b[36manotherElement\u001b[39m: \u001b[32mHuffmanPQ\u001b[39m = [{A|2}, {B|4}, ]\n",
       "\u001b[36melementInBetween\u001b[39m: \u001b[32mHuffmanPQ\u001b[39m = [{A|2}, {C|3}, {B|4}, ]"
      ]
     },
     "execution_count": 27,
     "metadata": {},
     "output_type": "execute_result"
    }
   ],
   "source": [
    "val empty = EmptyPQ\n",
    "val oneElement = empty.add(HuffmanNode(\"A\", 2))\n",
    "val anotherElement = oneElement.add(HuffmanNode(\"B\", 4))\n",
    "val elementInBetween = anotherElement.add(HuffmanNode(\"C\", 3))"
   ]
  },
  {
   "cell_type": "markdown",
   "metadata": {},
   "source": [
    "**Expected result:**\n",
    "\n",
    "    empty: EmptyPQ = []\n",
    "    oneElement: HuffmanPQ = [{A|2}]\n",
    "    anotherElement: HuffmanPQ = [{A|2}, {B|4}]\n",
    "    elementInBetween: HuffmanPQ = [{A|2}, {C|3}, {B|4}]"
   ]
  },
  {
   "cell_type": "markdown",
   "metadata": {},
   "source": [
    "## Part 3: utility functions\n",
    "\n",
    "First step is counting the occurrences of characters in a text. For simplicity, we'll assume the text to be already sorted alphabetically for now. So the text \"ABCABABC\" will be sorted as \"AAABBCC\". The first function to implement is to check which index in the string has a **different** character than the one we are searching. In the \"AAABBCC\" example, if we're searching for A, the first index we're looking for is 3. "
   ]
  },
  {
   "cell_type": "code",
   "execution_count": 38,
   "metadata": {
    "scrolled": true
   },
   "outputs": [
    {
     "name": "stderr",
     "output_type": "stream",
     "text": [
      "cmd38.sc:4: type mismatch;\n",
      " found   : Unit\n",
      " required: Int\n",
      "def firstIndexWithDifferentCharacter(text: String, char: Char, lastCheckedIndex: Int = 0): Int = {\n",
      "                                                                                                 ^"
     ]
    },
    {
     "ename": "",
     "evalue": "",
     "output_type": "error",
     "traceback": [
      "Compilation Failed"
     ]
    }
   ],
   "source": [
    "import scala.annotation.tailrec\n",
    "\n",
    "@tailrec\n",
    "def firstIndexWithDifferentCharacter(text: String, char: Char, lastCheckedIndex: Int = 0): Int = {\n",
    "    // YOUR IMPLEMENTATION HERE\n",
    "}"
   ]
  },
  {
   "cell_type": "markdown",
   "metadata": {},
   "source": [
    "Next, implement a function which creates a `HuffmanPQ` from a text, which is still assumed to be sorted. A possible idea:\n",
    "* start at the first character, count how many occurrences of that character you have (with the utility function above)\n",
    "* create a `HuffmanNode` out of it and continue processing the rest of the text\n",
    "* create a `HuffmanPQ` out of all the `HuffmanNode`s you have"
   ]
  },
  {
   "cell_type": "code",
   "execution_count": 38,
   "metadata": {},
   "outputs": [
    {
     "name": "stderr",
     "output_type": "stream",
     "text": [
      "cmd38.sc:1: type mismatch;\n",
      " found   : Unit\n",
      " required: cmd38Wrapper.this.cmd37.wrapper.HuffmanPQ\n",
      "def createHuffmanPQ(text: String): HuffmanPQ = {\n",
      "                                               ^"
     ]
    },
    {
     "ename": "",
     "evalue": "",
     "output_type": "error",
     "traceback": [
      "Compilation Failed"
     ]
    }
   ],
   "source": [
    "def createHuffmanPQ(text: String): HuffmanPQ = {\n",
    "    // YOUR CODE HERE\n",
    "}"
   ]
  },
  {
   "cell_type": "code",
   "execution_count": 41,
   "metadata": {},
   "outputs": [
    {
     "data": {
      "text/plain": [
       "\u001b[36mtestText\u001b[39m: \u001b[32mString\u001b[39m = \u001b[32m\"BACADAEAFABBAAAGH\"\u001b[39m\n",
       "\u001b[36mtestPQ\u001b[39m: \u001b[32mwrapper\u001b[39m.\u001b[32mcmd29\u001b[39m.\u001b[32mcmd25\u001b[39m.\u001b[32mwrapper\u001b[39m.\u001b[32mHuffmanPQ\u001b[39m = [{H|1}, {G|1}, {F|1}, {E|1}, {D|1}, {C|1}, {B|3}, {A|8}, ]"
      ]
     },
     "execution_count": 41,
     "metadata": {},
     "output_type": "execute_result"
    }
   ],
   "source": [
    "// TEST\n",
    "val testText = \"BACADAEAFABBAAAGH\"\n",
    "// notice that we're sorting the string for you\n",
    "val testPQ = createHuffmanPQ(testText.sorted)"
   ]
  },
  {
   "cell_type": "markdown",
   "metadata": {},
   "source": [
    "Expected result:\n",
    "    \n",
    "    testText: String = \"BACADAEAFABBAAAGH\"\n",
    "    testPQ: HuffmanPQ = [{H|1}, {G|1}, {F|1}, {E|1}, {D|1}, {C|1}, {B|3}, {A|8}]"
   ]
  },
  {
   "cell_type": "markdown",
   "metadata": {},
   "source": [
    "Now, implement a function to process the `HuffmanPQ` into a single `HuffmanNode` that contains the whole Huffman tree. Because all the `HuffmanNodes` are in ascending order of their frequency, all you have to do is to\n",
    "* extract two nodes out of the queue\n",
    "* combine them into one\n",
    "* insert the resulted node back into the queue\n",
    "* repeat the above until there's only one node left"
   ]
  },
  {
   "cell_type": "code",
   "execution_count": 39,
   "metadata": {},
   "outputs": [
    {
     "name": "stderr",
     "output_type": "stream",
     "text": [
      "cmd39.sc:1: type mismatch;\n",
      " found   : Unit\n",
      " required: cmd39Wrapper.this.cmd15.wrapper.HuffmanNode\n",
      "def getFinalHuffmanNode(queue: HuffmanPQ): HuffmanNode = {\n",
      "                                                         ^"
     ]
    },
    {
     "ename": "",
     "evalue": "",
     "output_type": "error",
     "traceback": [
      "Compilation Failed"
     ]
    }
   ],
   "source": [
    "def getFinalHuffmanNode(queue: HuffmanPQ): HuffmanNode = {\n",
    "    // YOUR CODE HERE\n",
    "}"
   ]
  },
  {
   "cell_type": "code",
   "execution_count": 40,
   "metadata": {},
   "outputs": [
    {
     "data": {
      "text/plain": [
       "\u001b[36mhuffmanTree\u001b[39m: \u001b[32mHuffmanNode\u001b[39m = {AHGFEDCB|17}"
      ]
     },
     "execution_count": 40,
     "metadata": {},
     "output_type": "execute_result"
    }
   ],
   "source": [
    "// TEST\n",
    "val huffmanTree = getFinalHuffmanNode(testPQ)"
   ]
  },
  {
   "cell_type": "markdown",
   "metadata": {},
   "source": [
    "**Expected result** (characters may appear in a slightly different order):\n",
    "\n",
    "    huffmanTree: HuffmanNode = {AHGFEDCB|17}\n"
   ]
  },
  {
   "cell_type": "markdown",
   "metadata": {},
   "source": [
    "## Part 4: Compressing text\n",
    "\n",
    "Good! You have a Huffman tree - now onto compressing text! As the algorithm states, compressing means traversing the tree until you've reached a leaf node, keeping track of the directions you chose in the tree (0 = left, 1 = right)."
   ]
  },
  {
   "cell_type": "code",
   "execution_count": 34,
   "metadata": {},
   "outputs": [
    {
     "data": {
      "text/plain": [
       "defined \u001b[32mfunction\u001b[39m \u001b[36mcompress\u001b[39m\n",
       "\u001b[36mcompressedText\u001b[39m: \u001b[32mString\u001b[39m = \u001b[32m\"11101101011000101101010011111100010011000\"\u001b[39m\n",
       "\u001b[36mnewLength\u001b[39m: \u001b[32mInt\u001b[39m = \u001b[32m41\u001b[39m"
      ]
     },
     "execution_count": 34,
     "metadata": {},
     "output_type": "execute_result"
    }
   ],
   "source": [
    "def compress(text: String, huffmanTree: HuffmanNode): String = {\n",
    "    \n",
    "    /*\n",
    "        YOUR CODE HERE.\n",
    "        \n",
    "        Hint: you might want to define an auxiliary function to encode a single character first.\n",
    "    */\n",
    "}\n",
    "\n",
    "val compressedText = compress(testText, huffmanTree)\n",
    "val newLength = compressedText.length"
   ]
  },
  {
   "cell_type": "markdown",
   "metadata": {},
   "source": [
    "**Expected result:**\n",
    "\n",
    "    compressedText: String = \"11101101011000101101010011111100010011000\"\n",
    "    newLength: Int = 41"
   ]
  },
  {
   "cell_type": "markdown",
   "metadata": {},
   "source": [
    "## Part 5: Decompressing text\n",
    "\n",
    "Decompressing should be even easier! At every step, look at the first bit in the remaining encoded string - that will tell you which next node in the Huffman tree to choose."
   ]
  },
  {
   "cell_type": "code",
   "execution_count": 39,
   "metadata": {},
   "outputs": [
    {
     "ename": "",
     "evalue": "",
     "output_type": "error",
     "traceback": [
      "SyntaxError: found \"val isTheSame = deco\", expected If | While | Try | DoWhile | For | Throw | Return | ImplicitLambda | SmallerExprOrLambda at index 319",
      "val isTheSame = deco",
      "^"
     ]
    }
   ],
   "source": [
    "/* \n",
    "    YOUR CODE HERE - define a function to decompress.\n",
    "    Advice: use auxiliary parameters as accumulators for any \"state\" you might want to keep.\n",
    "    Examples: the current character in the encoded string, the current node in your traversal etc\n",
    "*/\n",
    "\n",
    "val decompressedText = // TODO call your decompress function here\n",
    "val isTheSame = decompressedText.equals(testText)"
   ]
  },
  {
   "cell_type": "markdown",
   "metadata": {},
   "source": [
    "**Expected result:**\n",
    "\n",
    "    decompressedText: String = \"BACADAEAFABBAAAGH\"\n",
    "    isTheSame: Boolean = true"
   ]
  }
 ],
 "metadata": {
  "kernelspec": {
   "display_name": "Scala",
   "language": "scala",
   "name": "scala"
  },
  "language_info": {
   "codemirror_mode": "text/x-scala",
   "file_extension": ".scala",
   "mimetype": "text/x-scala",
   "name": "scala211",
   "nbconvert_exporter": "script",
   "pygments_lexer": "scala",
   "version": "2.11.11"
  }
 },
 "nbformat": 4,
 "nbformat_minor": 2
}
