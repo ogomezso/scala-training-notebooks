{
 "cells": [
  {
   "cell_type": "markdown",
   "metadata": {},
   "source": [
    "# Assignment #1: Data Compression\n",
    "\n",
    "In this assignment we're going to write a simple data compressor in Scala. You will have the chance to practice:\n",
    "* the Scala fundamentals\n",
    "* object-oriented principles in Scala\n",
    "* immutable data structures\n",
    "* string manipulation\n",
    "* data compression!"
   ]
  },
  {
   "cell_type": "markdown",
   "metadata": {},
   "source": [
    "## Intro\n",
    "\n",
    "There are smart ways to encode strings of text for space efficiency - and by extension, any piece of data, as we can split the data in one byte or two byte chunks.\n",
    "\n",
    "Look at this piece of text: **BACADAEAFABBAAAGH**. Considering each character as one byte, this uncompressed text takes 17 bytes = 136 bits. If we take a look at the fact that it only contains characters from A to H, we can use 3 bits per character instead of 8:\n",
    "\n",
    "||||\n",
    "|---|---|---|---|\n",
    "|A=000   |B=001   |C=010   |D=011   |\n",
    "|E=100   |F=101   |G=110   |H=111   |\n",
    "\n",
    "which brings the total space down to 51 bits.\n",
    "\n",
    "A better, smarter way of encoding the characters is by taking a look at _how often each character occurs_ in the original text. What would this look like if more frequent characters took fewer bits and less frequent characters took more bits to encode? Example:\n",
    "\n",
    "||||\n",
    "|---|---|---|---|\n",
    "|A=0 |B=100|C=1010|D=1011|\n",
    "|E=1100|F=1101|G=1110|H=1111|\n",
    "\n",
    "With this encoding, we need only 41 bits to encode the text, compressing the original size by more than 3 times!\n",
    "\n",
    "**This is our goal for this assignment - how to find such an encoding and how to compress and decompress text.** We will implement a classic compression technique known as [Huffman encoding](https://en.wikipedia.org/wiki/Huffman_coding). We will guide you on how to define and implement the relevnt data structures and how to progress with encoding your own pieces of text."
   ]
  },
  {
   "cell_type": "markdown",
   "metadata": {},
   "source": [
    "## How this works\n",
    "\n",
    "We'll go through the technique here, step by step. We'll use \"BACADAEAFABBAAAGH\" as an example.\n",
    "\n",
    "### Building the Huffman data  structures\n",
    "\n",
    "The algorithm works as follows:\n",
    "\n",
    "**Step 1**. The text to encode is converted into pairs of (character, number of occurrences of that character). The idea of Huffman encoding is that more frequent characters will have shorter codes.\n",
    "\n",
    "    \"BACADAEAFABBAAAGH\" = [{A|8}, {B|3}, {H|1}, {G|1}, {F|1}, {E|1}, {D|1}, {C|1}]\n",
    "    read {H|1} as \"H appears 1 times in the text\"\n",
    "\n",
    "**Step 2**. These pairs are sorted in ascending order by the frequency of their characters and stored as Huffman \"nodes\" in a binary tree. The nodes are all leaves for now. We store all the nodes into this sorted list as a primitive priority queue.\n",
    "\n",
    "    result = [{H|1}, {G|1}, {F|1}, {E|1}, {D|1}, {C|1}, {B|3}, {A|8}]\n",
    "\n",
    "**Step 3**. The two pairs with the lowest frequency are extracted from the queue and combined into a higher level Huffman tree node as the pair (the combined set of the two nodes' characters, the sum of the two nodes' frequencies).\n",
    "\n",
    "    {H|1} + {G|1} = {HG|2}\n",
    "                     /  \\                \n",
    "                    /    \\               \n",
    "                 {H|1}  {G|1} \n",
    "\n",
    "**Step 4**. Insert the new Huffman node into the queue and keep the sorted property of the queue. Remember, the sorting criterion is the ascending order of the Huffman nodes' frequencies.\n",
    "\n",
    "                                                                \n",
    "     queue = [{F|1}, {E|1}, {D|1}, {C|1}, {HG|2}, {B|3}, {A|8}]\n",
    "                                           /  \\                \n",
    "                                          /    \\               \n",
    "                                       {H|1}  {G|1}        \n",
    "    \n",
    "\n",
    "**Repeat steps 3 and 4 until there is only one node in the queue**. That will be the root of the Huffman encoding tree.\n",
    "\n",
    "    iteration:\n",
    "    \n",
    "        before: [{F|1}, {E|1}, {D|1}, {C|1}, {HG|2}, {B|3}, {A|8}]\n",
    "                                              /  \\                \n",
    "                                             /    \\               \n",
    "                                          {H|1}  {G|1}\n",
    "                                       \n",
    "        extract {F|1} + {E|1} = {FE|2}\n",
    "        new queue [{D|1}, {C|1}, {FE|2},        {HG|2}, {B|3}, {A|8}]\n",
    "                                  /  \\           /  \\               \n",
    "                                 /    \\         /    \\              \n",
    "                               {F|1} {E|1}   {H|1}  {G|1} \n",
    "\n",
    "\n",
    "    \n",
    "        extract {D|1} + {C|1} = {DC|2}\n",
    "        new queue [{DC|2},       {FE|2},        {HG|2}, {B|3}, {A|8}]\n",
    "                    /  \\          /  \\           /  \\               \n",
    "                   /    \\        /    \\         /    \\              \n",
    "                 {D|1} {C|1}   {F|1} {E|1}   {H|1}  {G|1}  \n",
    "\n",
    "\n",
    "        extract {DC|2} + {FE|2} = {DCFE|4}\n",
    "        new queue [{HG|2}, {B|3}, {DCFE|4}, {A|8}]\n",
    "                    /  \\            -/  \\-                                              \n",
    "                   /    \\         -/      \\-                                            \n",
    "                {H|1}  {G|1}    -/          \\-                                          \n",
    "                              {DC|2}        {FE|2}                                       \n",
    "                               /  \\          /  \\                                        \n",
    "                              /    \\        /    \\                                       \n",
    "                            {D|1} {C|1}   {F|1} {E|1}  \n",
    "                                  \n",
    "\n",
    "\n",
    "        extract {HG|2} + {B|3} = {HGB|5}\n",
    "        new queue [{DCFE|4},                   {HGB|5}, {A|8}]\n",
    "                    -/  \\-                       /  \\                   \n",
    "                  -/      \\-                   -/    \\-                 \n",
    "                -/          \\-                /        \\                \n",
    "             {DC|2}        {FE|2}          {HG|2}     {B|3}             \n",
    "              /  \\          /  \\            /  \\                        \n",
    "             /    \\        /    \\          /    \\                       \n",
    "           {D|1} {C|1}   {F|1} {E|1}    {H|1}  {G|1}\n",
    "\n",
    "\n",
    "        extract {DCFE|4} + {HGB|5} = {DCFEHGB|9}\n",
    "        new queue  [{A|8},  {DCFEHGB|9}]\n",
    "                             -/     -\\                                      \n",
    "                           -/         --\\                                   \n",
    "                         -/              --\\                                \n",
    "                       -/                   -\\                              \n",
    "                      /                       --\\                           \n",
    "                  {DCFE|4}                    {HGB|5}                       \n",
    "                   -/  \\-                       /  \\                        \n",
    "                 -/      \\-                   -/    \\-                      \n",
    "               -/          \\-                /        \\                     \n",
    "            {DC|2}        {FE|2}          {HG|2}     {B|3}                  \n",
    "             /  \\          /  \\            /  \\                             \n",
    "            /    \\        /    \\          /    \\                            \n",
    "          {D|1} {C|1}   {F|1} {E|1}    {H|1}  {G|1} \n",
    "        \n",
    "\n",
    "        extract {A|8} + {DCFEHGB|9} = {ADCFEHGB|17}\n",
    "        new queue [{ADCFEHGB|17}]                                            \n",
    "                   --/      -\\                                              \n",
    "                 -/           -\\                                            \n",
    "             {A|8}          {DCFEHGB|9}                                     \n",
    "                             -/     -\\                                      \n",
    "                           -/         --\\                                   \n",
    "                         -/              --\\                                \n",
    "                       -/                   -\\                              \n",
    "                      /                       --\\                           \n",
    "                  {DCFE|4}                    {HGB|5}                       \n",
    "                   -/  \\-                       /  \\                        \n",
    "                 -/      \\-                   -/    \\-                      \n",
    "               -/          \\-                /        \\                     \n",
    "            {DC|2}        {FE|2}          {HG|2}     {B|3}                  \n",
    "             /  \\          /  \\            /  \\                             \n",
    "            /    \\        /    \\          /    \\                            \n",
    "          {D|1} {C|1}   {F|1} {E|1}    {H|1}  {G|1}\n",
    "\n",
    "And the Huffman tree is complete as the queue only has one node left. That will be the root of the tree."
   ]
  },
  {
   "cell_type": "markdown",
   "metadata": {},
   "source": [
    "\n",
    "### Encoding a character\n",
    "\n",
    "Now that we have the Huffman tree set, encoding a character means traversing the Huffman tree. Let's encode \"AB\".\n",
    "\n",
    "**Step 1.** Start from the root of the Huffman tree and with the empty string as the encoding.\n",
    "\n",
    "        A = \"\"\n",
    "        \n",
    "        current node:\n",
    "                           {ADCFEHGB|17}                                            \n",
    "                           --/      -\\                                              \n",
    "                         -/           -\\                                            \n",
    "                     {A|8}          {DCFEHGB|9}                                     \n",
    "                                     -/     -\\                                      \n",
    "                                   -/         --\\                                   \n",
    "                                 -/              --\\                                \n",
    "                               -/                   -\\                              \n",
    "                              /                       --\\                           \n",
    "                          {DCFE|4}                    {HGB|5}                       \n",
    "                           -/  \\-                       /  \\                        \n",
    "                         -/      \\-                   -/    \\-                      \n",
    "                       -/          \\-                /        \\                     \n",
    "                    {DC|2}        {FE|2}          {HG|2}     {B|3}                  \n",
    "                     /  \\          /  \\            /  \\                             \n",
    "                    /    \\        /    \\          /    \\                            \n",
    "                  {D|1} {C|1}   {F|1} {E|1}    {H|1}  {G|1} \n",
    "\n",
    "**Step 2.** Find which child (left or right) of this node contains the desired character. If it's the left child, append \"0\" to the encoding. If it's the right child, append \"1\". \n",
    "\n",
    "        from {ADCFEHGB|17}, the left child {A|9} contains \"A\"\n",
    "        A = \"0\"\n",
    "        \n",
    "**Step 3.** Move to the new node in the Huffman tree.\n",
    "\n",
    "        current node: {A|9}\n",
    "        \n",
    "**Step 4.** Repeat steps 2 and 3 until you are at a leaf node. \n",
    "\n",
    "        (nothing to do)\n",
    "        \n",
    "**Step 5.** Write down the encoding, move to the root node again and go back to step 1 for the next character in your text.\n",
    "\n",
    "        A = \"0\"\n",
    "        \n",
    "    iteration:\n",
    "    \n",
    "        B = \"\", \n",
    "        current node:\n",
    "                           {ADCFEHGB|17}                                            \n",
    "                           --/      -\\                                              \n",
    "                         -/           -\\                                            \n",
    "                     {A|8}          {DCFEHGB|9}                                     \n",
    "                                     -/     -\\                                      \n",
    "                                   -/         --\\                                   \n",
    "                                 -/              --\\                                \n",
    "                               -/                   -\\                              \n",
    "                              /                       --\\                           \n",
    "                          {DCFE|4}                    {HGB|5}                       \n",
    "                           -/  \\-                       /  \\                        \n",
    "                         -/      \\-                   -/    \\-                      \n",
    "                       -/          \\-                /        \\                     \n",
    "                    {DC|2}        {FE|2}          {HG|2}     {B|3}                  \n",
    "                     /  \\          /  \\            /  \\                             \n",
    "                    /    \\        /    \\          /    \\                            \n",
    "                  {D|1} {C|1}   {F|1} {E|1}    {H|1}  {G|1} \n",
    "\n",
    "    iteration:\n",
    "    \n",
    "        B = \"1\", \n",
    "        current node:\n",
    "                        {DCFEHGB|9}                                     \n",
    "                         -/     -\\                                      \n",
    "                       -/         --\\                                   \n",
    "                     -/              --\\                                \n",
    "                   -/                   -\\                              \n",
    "                  /                       --\\                           \n",
    "              {DCFE|4}                    {HGB|5}                       \n",
    "               -/  \\-                       /  \\                        \n",
    "             -/      \\-                   -/    \\-                      \n",
    "           -/          \\-                /        \\                     \n",
    "        {DC|2}        {FE|2}          {HG|2}     {B|3}                  \n",
    "         /  \\          /  \\            /  \\                             \n",
    "        /    \\        /    \\          /    \\                            \n",
    "      {D|1} {C|1}   {F|1} {E|1}    {H|1}  {G|1}\n",
    "                        \n",
    "    iteration:\n",
    "    \n",
    "        B = \"11\", \n",
    "        current node:\n",
    "                       {HGB|5}                                                      \n",
    "                         /  \\                                                       \n",
    "                       -/    \\-                                                     \n",
    "                      /        \\                                                    \n",
    "                   {HG|2}     {B|3}                                                 \n",
    "                    /  \\                                                            \n",
    "                   /    \\                                                           \n",
    "                {H|1}  {G|1}  \n",
    "                \n",
    "    iteration:\n",
    "    \n",
    "        B = \"111\", current node: {B|3}, stop.\n",
    "        \n",
    "    Final encoding \"0111\".\n"
   ]
  },
  {
   "cell_type": "markdown",
   "metadata": {},
   "source": [
    "### Decoding text\n",
    "\n",
    "The binary sequence will be essentially the way that you will need to traverse the Huffman tree to _retrieve_ the characters. \n",
    "\n",
    "**Step 1.** Start from the root node in the Huffman tree.\n",
    "\n",
    "**Step 2.** Follow the binary sequence in your encoded text, bit by bit. If the first remaining bit in the encoded string is a 0, go left in the Huffman tree. If it's a 1, go right.\n",
    "\n",
    "**Step 3.** Once you reach a leaf node, write down the letter contained within and go back to step 1 and carry on with the remaining binary string.\n",
    "\n",
    "Example: say we want back the text \"AB\" from the binary encoding 0111.\n",
    "\n",
    "        coding: 0111\n",
    "        tree:\n",
    "                       {ADCFEHGB|17}                                            \n",
    "                       --/      -\\                                              \n",
    "                     -/           -\\                                            \n",
    "                 {A|8}          {DCFEHGB|9}                                     \n",
    "                                 -/     -\\                                      \n",
    "                               -/         --\\                                   \n",
    "                             -/              --\\                                \n",
    "                           -/                   -\\                              \n",
    "                          /                       --\\                           \n",
    "                      {DCFE|4}                    {HGB|5}                       \n",
    "                       -/  \\-                       /  \\                        \n",
    "                     -/      \\-                   -/    \\-                      \n",
    "                   -/          \\-                /        \\                     \n",
    "                {DC|2}        {FE|2}          {HG|2}     {B|3}                  \n",
    "                 /  \\          /  \\            /  \\                             \n",
    "                /    \\        /    \\          /    \\                            \n",
    "              {D|1} {C|1}   {F|1} {E|1}    {H|1}  {G|1} \n",
    "              \n",
    "       0 = left, currently at {A|9}\n",
    "       got A\n",
    "       1 = right, currently at {DCFEHGB|9}\n",
    "       1 = right, currently at {HGB|5}\n",
    "       1 = right, currently at {B|3}\n",
    "       got B\n",
    "\n",
    "       result: \"AB\""
   ]
  },
  {
   "cell_type": "markdown",
   "metadata": {},
   "source": [
    "## Part 1: the basic data structures\n",
    "\n",
    "We'll define here a simple data structure that will allow us to find a good encoding for Huffman compression. We'll define a small \"node\" data structure (we'll call it `HuffmanNode`) which contains two fields: `chars`, which will be a `String`, and `occurrences`, which will be an `Int`. Define this below. We're going to expand this definition (and redefine `HuffmanNode`) as we go along."
   ]
  },
  {
   "cell_type": "code",
   "execution_count": null,
   "metadata": {},
   "outputs": [],
   "source": [
    "/*\n",
    "    YOUR CODE HERE\n",
    "    \n",
    "    Define a simple HuffmanNode class with two fields: chars = a String, and occurrences = an Int.\n",
    "*/"
   ]
  },
  {
   "cell_type": "code",
   "execution_count": null,
   "metadata": {
    "scrolled": false
   },
   "outputs": [],
   "source": [
    "// TEST\n",
    "val node = new HuffmanNode(\"ABC\", 3)\n",
    "println(node.chars)\n",
    "println(node.occurrences)"
   ]
  },
  {
   "cell_type": "markdown",
   "metadata": {},
   "source": [
    "**Expected result:**<br/>\n",
    "\n",
    "    ABC\n",
    "    3"
   ]
  },
  {
   "cell_type": "markdown",
   "metadata": {},
   "source": [
    "Now we need to make these nodes comparable by their occurrences values. Define a trait called `HuffmanComparable` with two methods:\n",
    "* a method `absoluteValue` which returns and Int - leave that abstract\n",
    "* a method `compareTo` which receives a `HuffmanComparable` - this will compare the absolute values"
   ]
  },
  {
   "cell_type": "code",
   "execution_count": null,
   "metadata": {},
   "outputs": [],
   "source": [
    "trait HuffmanComparable {\n",
    "    // YOUR CODE HERE\n",
    "    // a method absoluteValue\n",
    "    // a method compareTo\n",
    "}"
   ]
  },
  {
   "cell_type": "markdown",
   "metadata": {},
   "source": [
    "Now let's redefine `HuffmanNode` by taking into account all the properties described in the technique. Make `HuffmanNode` have two more fields (for the left and right child nodes) and make it extend the trait you just defined.\n",
    "\n",
    "**Optional:** If you find it valuable, define a companion for `HuffmanNode` with one (or more) `apply` factory methods - they might come in handy later."
   ]
  },
  {
   "cell_type": "code",
   "execution_count": null,
   "metadata": {},
   "outputs": [],
   "source": [
    "class HuffmanNode {\n",
    "\n",
    "    // YOUR CODE HERE - add all the fields, make it extend the HuffmanComparable trait, and implement the methods\n",
    "\n",
    "    // we added this for pretty printing - toString is a special method in the JVM\n",
    "    override def toString: String = \"{\" + chars + \"|\" + occurrences + \"}\"\n",
    "}\n",
    "\n",
    "// YOUR CODE HERE - OPTIONAL - add a companion here\n",
    "\n",
    "\n",
    "// TEST code\n",
    "val nodeA = new HuffmanNode(\"A\", 2)\n",
    "val nodeB = new HuffmanNode(\"B\", 3)\n",
    "val comparison = nodeA compareTo nodeB\n",
    "val parent = new HuffmanNode(\"AB\", 5, nodeA, nodeB)"
   ]
  },
  {
   "cell_type": "markdown",
   "metadata": {},
   "source": [
    "## Part 2: The priority queue\n",
    "\n",
    "Here is the following trait that describes the priority queue data structure we discussed in the algorithm. We will implement this as a singly-linked list with the property that every insertion must be executed in order. That is, all elements in this priority queue will be sorted."
   ]
  },
  {
   "cell_type": "code",
   "execution_count": null,
   "metadata": {},
   "outputs": [],
   "source": [
    "trait HuffmanPQ {\n",
    "    // inserts this node in sorted order\n",
    "    def add(node: HuffmanNode): HuffmanPQ\n",
    "\n",
    "    // the first (lowest-value) element in this priority queue\n",
    "    def head: HuffmanNode\n",
    "    \n",
    "    // the rest of this PQ\n",
    "    def tail: HuffmanPQ\n",
    "    \n",
    "    // returns the rest of the PQ after extracting an element\n",
    "    def pop: HuffmanPQ\n",
    "\n",
    "    // lists all elements in a comma-separated string\n",
    "    def listElements: String \n",
    "    \n",
    "    // we wrote this for pretty printing, no need to change\n",
    "    override def toString: String = \"[\" + listElements + \"]\"\n",
    "}"
   ]
  },
  {
   "cell_type": "markdown",
   "metadata": {},
   "source": [
    "Let's extend this trait by providing an empty queue implementation and a non-empty implementation."
   ]
  },
  {
   "cell_type": "code",
   "execution_count": null,
   "metadata": {},
   "outputs": [],
   "source": [
    "object EmptyPQ extends HuffmanPQ {\n",
    "    // YOUR CODE HERE implement the abstract methods \n",
    "}\n",
    "\n",
    "class ConsPQ(/* YOUR CODE HERE members if you need them */) extends HuffmanPQ {\n",
    "    // YOUR CODE HERE implement the abstract methods\n",
    "}"
   ]
  },
  {
   "cell_type": "code",
   "execution_count": null,
   "metadata": {},
   "outputs": [],
   "source": [
    "val empty = EmptyPQ\n",
    "val oneElement = empty.add(HuffmanNode(\"A\", 2))\n",
    "val anotherElement = oneElement.add(HuffmanNode(\"B\", 4))\n",
    "val elementInBetween = anotherElement.add(HuffmanNode(\"C\", 3))"
   ]
  },
  {
   "cell_type": "markdown",
   "metadata": {},
   "source": [
    "**Expected result:**\n",
    "\n",
    "    empty: EmptyPQ = []\n",
    "    oneElement: HuffmanPQ = [{A|2}]\n",
    "    anotherElement: HuffmanPQ = [{A|2}, {B|4}]\n",
    "    elementInBetween: HuffmanPQ = [{A|2}, {C|3}, {B|4}]"
   ]
  },
  {
   "cell_type": "markdown",
   "metadata": {},
   "source": [
    "## Part 3: utility functions\n",
    "\n",
    "First step is counting the occurrences of characters in a text. For simplicity, we'll assume the text to be already sorted alphabetically for now. So the text \"ABCABABC\" will be sorted as \"AAABBCC\". The first function to implement is to check which index in the string has a **different** character than the one we are searching. In the \"AAABBCC\" example, if we're searching for A, the first index we're looking for is 3. "
   ]
  },
  {
   "cell_type": "code",
   "execution_count": null,
   "metadata": {
    "scrolled": true
   },
   "outputs": [],
   "source": [
    "import scala.annotation.tailrec\n",
    "\n",
    "@tailrec\n",
    "def firstIndexWithDifferentCharacter(text: String, char: Char, lastCheckedIndex: Int = 0): Int = {\n",
    "    // YOUR IMPLEMENTATION HERE\n",
    "}"
   ]
  },
  {
   "cell_type": "markdown",
   "metadata": {},
   "source": [
    "Next, implement a function which creates a `HuffmanPQ` from a text, which is still assumed to be sorted. A possible idea:\n",
    "* start at the first character, count how many occurrences of that character you have (with the utility function above)\n",
    "* create a `HuffmanNode` out of it and continue processing the rest of the text\n",
    "* create a `HuffmanPQ` out of all the `HuffmanNode`s you have"
   ]
  },
  {
   "cell_type": "code",
   "execution_count": null,
   "metadata": {},
   "outputs": [],
   "source": [
    "def createHuffmanPQ(text: String): HuffmanPQ = {\n",
    "    // YOUR CODE HERE\n",
    "}"
   ]
  },
  {
   "cell_type": "code",
   "execution_count": null,
   "metadata": {},
   "outputs": [],
   "source": [
    "// TEST\n",
    "val testText = \"BACADAEAFABBAAAGH\"\n",
    "// notice that we're sorting the string for you\n",
    "val testPQ = createHuffmanPQ(testText.sorted)"
   ]
  },
  {
   "cell_type": "markdown",
   "metadata": {},
   "source": [
    "Expected result:\n",
    "    \n",
    "    testText: String = \"BACADAEAFABBAAAGH\"\n",
    "    testPQ: HuffmanPQ = [{H|1}, {G|1}, {F|1}, {E|1}, {D|1}, {C|1}, {B|3}, {A|8}]"
   ]
  },
  {
   "cell_type": "markdown",
   "metadata": {},
   "source": [
    "Now, implement a function to process the `HuffmanPQ` into a single `HuffmanNode` that contains the whole Huffman tree. Because all the `HuffmanNodes` are in ascending order of their frequency, all you have to do is to\n",
    "* extract two nodes out of the queue\n",
    "* combine them into one\n",
    "* insert the resulted node back into the queue\n",
    "* repeat the above until there's only one node left"
   ]
  },
  {
   "cell_type": "code",
   "execution_count": null,
   "metadata": {},
   "outputs": [],
   "source": [
    "def getFinalHuffmanNode(queue: HuffmanPQ): HuffmanNode = {\n",
    "    // YOUR CODE HERE\n",
    "}"
   ]
  },
  {
   "cell_type": "code",
   "execution_count": null,
   "metadata": {},
   "outputs": [],
   "source": [
    "// TEST\n",
    "val huffmanTree = getFinalHuffmanNode(testPQ)"
   ]
  },
  {
   "cell_type": "markdown",
   "metadata": {},
   "source": [
    "**Expected result** (characters may appear in a slightly different order):\n",
    "\n",
    "    huffmanTree: HuffmanNode = {AHGFEDCB|17}\n"
   ]
  },
  {
   "cell_type": "markdown",
   "metadata": {},
   "source": [
    "## Part 4: Compressing text\n",
    "\n",
    "Good! You have a Huffman tree - now onto compressing text! As the algorithm states, compressing means traversing the tree until you've reached a leaf node, keeping track of the directions you chose in the tree (0 = left, 1 = right)."
   ]
  },
  {
   "cell_type": "code",
   "execution_count": null,
   "metadata": {},
   "outputs": [],
   "source": [
    "def compress(text: String, huffmanTree: HuffmanNode): String = {\n",
    "    \n",
    "    /*\n",
    "        YOUR CODE HERE.\n",
    "        \n",
    "        Hint: you might want to define an auxiliary function to encode a single character first.\n",
    "    */\n",
    "}\n",
    "\n",
    "val compressedText = compress(testText, huffmanTree)\n",
    "val newLength = compressedText.length"
   ]
  },
  {
   "cell_type": "markdown",
   "metadata": {},
   "source": [
    "**Expected result:**\n",
    "\n",
    "    compressedText: String = \"11101101011000101101010011111100010011000\"\n",
    "    newLength: Int = 41"
   ]
  },
  {
   "cell_type": "markdown",
   "metadata": {},
   "source": [
    "## Part 5: Decompressing text\n",
    "\n",
    "Decompressing should be even easier! At every step, look at the first bit in the remaining encoded string - that will tell you which next node in the Huffman tree to choose."
   ]
  },
  {
   "cell_type": "code",
   "execution_count": null,
   "metadata": {},
   "outputs": [],
   "source": [
    "/* \n",
    "    YOUR CODE HERE - define a function to decompress.\n",
    "    Advice: use auxiliary parameters as accumulators for any \"state\" you might want to keep.\n",
    "    Examples: the current character in the encoded string, the current node in your traversal etc\n",
    "*/\n",
    "\n",
    "val decompressedText = // TODO call your decompress function here\n",
    "val isTheSame = decompressedText.equals(testText)"
   ]
  },
  {
   "cell_type": "markdown",
   "metadata": {},
   "source": [
    "**Expected result:**\n",
    "\n",
    "    decompressedText: String = \"BACADAEAFABBAAAGH\"\n",
    "    isTheSame: Boolean = true"
   ]
  },
  {
   "cell_type": "markdown",
   "metadata": {},
   "source": [
    "## Part 6: Your own tests!"
   ]
  },
  {
   "cell_type": "code",
   "execution_count": null,
   "metadata": {},
   "outputs": [],
   "source": [
    "/* \n",
    "    YOUR CODE HERE\n",
    "    Feel free to play around with the functions you implemented.\n",
    "    Write some text, run Huffman coding on it and see how compressing/decompressing works.\n",
    "\n",
    "    Also, try to come with some cases where Huffman compression is ineffective!\n",
    "*/"
   ]
  },
  {
   "cell_type": "markdown",
   "metadata": {},
   "source": [
    "## Part 7, Rockstar task: tree pretty print\n",
    "\n",
    "Having defined the Huffman nodes data structure, bring up your String manipulation _#skillz_ to print a Huffman tree in the style we printed them in the explanations!"
   ]
  },
  {
   "cell_type": "code",
   "execution_count": null,
   "metadata": {},
   "outputs": [],
   "source": [
    "def prettyPrint(node: HuffmanNode): String = {\n",
    "    /*\n",
    "        YOUR CODE HERE\n",
    "    */\n",
    "}\n",
    "\n",
    "val aLeaf = new HuffmanNode(\"H\", 1)\n",
    "val anotherLeaf = new HuffmanNode(\"G\", 1)\n",
    "println(\"A leaf node: \\n\" + prettyPrint(aLeaf))\n",
    "println(\"A simple parent node: \\n\" + prettyPrint(new HuffmanNode(\"HG\", 2, aLeaf, anotherLeaf)))\n",
    "println(\"A complex tree: \\n\" + huffmanTree)"
   ]
  },
  {
   "cell_type": "markdown",
   "metadata": {},
   "source": [
    "**Expected results (reference):**\n",
    "\n",
    "    A leaf node:\n",
    "    {H|1}\n",
    "\n",
    "    A simple parent node:\n",
    "        {HG|2}\n",
    "         /  \\                \n",
    "        /    \\               \n",
    "     {H|1}  {G|1}\n",
    "     \n",
    "    A complex tree:\n",
    "                {ADCFEHGB|17}                                            \n",
    "               --/      -\\                                              \n",
    "             -/           -\\                                            \n",
    "         {A|8}          {DCFEHGB|9}                                     \n",
    "                         -/     -\\                                      \n",
    "                       -/         --\\                                   \n",
    "                     -/              --\\                                \n",
    "                   -/                   -\\                              \n",
    "                  /                       --\\                           \n",
    "              {DCFE|4}                    {HGB|5}                       \n",
    "               -/  \\-                       /  \\                        \n",
    "             -/      \\-                   -/    \\-                      \n",
    "           -/          \\-                /        \\                     \n",
    "        {DC|2}        {FE|2}          {HG|2}     {B|3}                  \n",
    "         /  \\          /  \\            /  \\                             \n",
    "        /    \\        /    \\          /    \\                            \n",
    "      {D|1} {C|1}   {F|1} {E|1}    {H|1}  {G|1} "
   ]
  }
 ],
 "metadata": {
  "kernelspec": {
   "display_name": "Scala",
   "language": "scala",
   "name": "scala"
  },
  "language_info": {
   "codemirror_mode": "text/x-scala",
   "file_extension": ".scala",
   "mimetype": "text/x-scala",
   "name": "scala211",
   "nbconvert_exporter": "script",
   "pygments_lexer": "scala",
   "version": "2.11.11"
  }
 },
 "nbformat": 4,
 "nbformat_minor": 2
}
