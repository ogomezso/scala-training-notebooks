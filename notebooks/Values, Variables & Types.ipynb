{
 "cells": [
  {
   "cell_type": "markdown",
   "metadata": {},
   "source": [
    "# Values, Variables & Types\n",
    "\n",
    "Welcome back to our first lesson of the real deal! This will is all about the basics explaining the values, variables and types in Scala. Those are primordial building blocks that allow us to work with Scala. At the end of the lesson, you will know what is a value or a variable and how to define one and you should be able to choose when to use one or the other. Finally you will know how to determine the type of a value / variable.\n",
    "\n",
    "Don't forget to run each paragraph as you slowly progress downwards :)"
   ]
  },
  {
   "cell_type": "markdown",
   "metadata": {},
   "source": [
    "### Values\n",
    "\n",
    "Perhaps the most used construct in Scala is that of a value. To define a value in Scala we use the keyword **val**, followed by the name of the value, optionally its type and finally the actual value. For the next few paragraph we'll forget that types exist in Scala so we can better focus on values.\n",
    "\n",
    "Enough! Let's define our own value:"
   ]
  },
  {
   "cell_type": "code",
   "execution_count": null,
   "metadata": {},
   "outputs": [],
   "source": [
    "val x = 0 // define the value `x` to be `0`"
   ]
  },
  {
   "cell_type": "markdown",
   "metadata": {},
   "source": [
    "Did you run the paragraph? It should say something like `x: Int = 0`, which means that the x is a value defined to 0. Cool! Hmm, there's another thing here bothering us. What does `: Int` stand for? We didn't put it anywhere, so what happened?\n",
    "\n",
    "Long story short we'll see in a moment that every value and variable in Scala has a type. If you're lazy (like me) and don't specify it, the compiler will infer it for you. In our case, the compiler figured out that x is of type `Int` which represents a number - an integer. We'll find out more in a moment, for now let's learn more about values.\n",
    "\n",
    "If Scala isn't your first programming language then you probably know about reassignment. Let's set `x` to be `1` and see what happens."
   ]
  },
  {
   "cell_type": "code",
   "execution_count": null,
   "metadata": {},
   "outputs": [],
   "source": [
    "x = 1"
   ]
  },
  {
   "cell_type": "markdown",
   "metadata": {},
   "source": [
    "---\n",
    "Boooom!! Compilation Failed with \"reassignment to val\". Why did the assignment explode? This is our first hard-learned lesson: in Scala **val**'s are immutable values. This means they *cannot be reassigned*.\n",
    "\n",
    "Awesome \\[I'm thinking\\] ... but then you shout: \"What if I wanna' reassign something to x? What if I really need it?...\" "
   ]
  },
  {
   "cell_type": "markdown",
   "metadata": {},
   "source": [
    "### Variables\n",
    "\n",
    "Well, if you really need them then I guess I have no choice but to tell you ... Scala allows the definition of variables through the keyword **var**, followed by the name of the variable, optionally its type and finally the actual variable. As opposed to values, variables can be reassigned.\n",
    "\n",
    "Let's see what I mean. Oh and by the way remember that these paragraphs allow redefinition of bindings, so even if we defined `x` above, it's legal to define it again here under some other form. The effect is that further (below) paragraphs will use the `x` defined here."
   ]
  },
  {
   "cell_type": "code",
   "execution_count": null,
   "metadata": {},
   "outputs": [],
   "source": [
    "var x = 0 // define the variable `x` to be `0`\n",
    "x = 1     // set the value of `x` to `1`\n",
    "x += 1    // increment `x` with `1`"
   ]
  },
  {
   "cell_type": "markdown",
   "metadata": {},
   "source": [
    "Awesome - we defined `x` to `0` and then gave it a different value. You might be happy at this point but I'm not actually. Even if variables are useful to keep state (for example an index which is incremented inside of a loop) they bring heavy burdens to use developers.\n",
    "\n",
    "Code using mutable state is harder to test, to maintain and to reason about. Mutating a variable is a side-effect. You will often here that less side-effects means easier reasoning - it's easier for developers to understand the code when side-effects are not used. A side-effect is even printing something to the console - that's the reason we can't actually get rid of side effects, as the program would have no meaning.\n",
    "\n",
    "Even running this paragraph is a side-effect. The side-effect of the run is the actual text that's changed afterwards!\n",
    "\n",
    "As a bottom rule, always *prefer values over variables* and try to use variables only if you're out of options."
   ]
  },
  {
   "cell_type": "markdown",
   "metadata": {},
   "source": [
    "### Types\n",
    "\n",
    "We know a lot of things about values and variables in Scala, we're only missing the information about types. You may have noticed when I told you how to define a value / variable that you can optionally specify a type to it.\n",
    "\n",
    "Ok ok, so what are these types actually?\n",
    "\n",
    "Well, a type is some information that allows the compiler to classify data. If you want, a type tells the compiler how you want to use that data. So when I say `val x: Int` the compiler alreay knows that `x` will be a number. For example, it helps it decide if the methods you call on `x` are valid. Makes sense?\n",
    "\n",
    "To specify a type you can use `: <type>` after the name of the value / variable."
   ]
  },
  {
   "cell_type": "code",
   "execution_count": null,
   "metadata": {},
   "outputs": [],
   "source": [
    "val x: Int = 0"
   ]
  },
  {
   "cell_type": "markdown",
   "metadata": {},
   "source": [
    "Cool, you just defined a value and specified its type. Awesome! There's one more thing though - if you do specify a type, make sure that the right side conforms to it. So if you say that `x` is a number, be careful not to pass in a string when you build it. Try it:"
   ]
  },
  {
   "cell_type": "code",
   "execution_count": null,
   "metadata": {},
   "outputs": [],
   "source": [
    "val x: Int = \"string\""
   ]
  },
  {
   "cell_type": "markdown",
   "metadata": {},
   "source": [
    "What happend out there? Well we lied the compiler and he caught us. We told him that `x` is a number but we passed in a string! This is a common mistake when you get to more complex type so try to be careful.\n",
    "\n",
    "Cool, you know more about types! Can you tell me what happens when you don't specify a type?"
   ]
  },
  {
   "cell_type": "code",
   "execution_count": null,
   "metadata": {},
   "outputs": [],
   "source": [
    "val x = 0"
   ]
  },
  {
   "cell_type": "markdown",
   "metadata": {},
   "source": [
    "Surprise, surprise, the compiler figured out the type on its own. How is that even possible? Well, Scala has what is called type inference. When the code is compiled, all values / variables are given a type, even if you don't specify it. We'll learn in future lessons how that type is actually computed, but for now I can tell you that the compiler is pretty smart."
   ]
  },
  {
   "cell_type": "code",
   "execution_count": null,
   "metadata": {},
   "outputs": [],
   "source": [
    "var x = 0  // redefine `x` to be a variable with the value of `0`\n",
    "x = \"rock\" // set `x` to be the string \"rock\""
   ]
  },
  {
   "cell_type": "markdown",
   "metadata": {},
   "source": [
    "Oops! I told ya' - the compiler is smart enough to decide the type of a value or variable. Don't try to fool it, as it will raise you compile errors."
   ]
  },
  {
   "cell_type": "markdown",
   "metadata": {},
   "source": [
    "### Basic Types"
   ]
  },
  {
   "cell_type": "code",
   "execution_count": null,
   "metadata": {},
   "outputs": [],
   "source": [
    "// Scala has boolean types. They can have either the value `true` or `false`.\n",
    "val x: Boolean = false"
   ]
  },
  {
   "cell_type": "code",
   "execution_count": null,
   "metadata": {},
   "outputs": [],
   "source": [
    "// The numbers can be defined with different levels of precision.\n",
    "val x1: Int = 0\n",
    "val x2: Long = 0L\n",
    "\n",
    "// Rational numbers are present as well\n",
    "val y1: Float = 2.0f\n",
    "val y2: Double = 2.0d"
   ]
  },
  {
   "cell_type": "code",
   "execution_count": null,
   "metadata": {},
   "outputs": [],
   "source": [
    "// And strings, obviously:\n",
    "val x: String = \"Hello, World\"\n",
    "val y: Char = 'H'"
   ]
  },
  {
   "cell_type": "code",
   "execution_count": null,
   "metadata": {},
   "outputs": [],
   "source": [
    "// And if you're missing `void`, it's here as well - only it's called Unit.\n",
    "// Oh and yeah - it's an actual value as we'll see in the next videos.\n",
    "val x: Unit = ()"
   ]
  },
  {
   "cell_type": "code",
   "execution_count": null,
   "metadata": {},
   "outputs": [],
   "source": []
  }
 ],
 "metadata": {
  "kernelspec": {
   "display_name": "Scala",
   "language": "scala",
   "name": "scala"
  },
  "language_info": {
   "codemirror_mode": "text/x-scala",
   "file_extension": ".scala",
   "mimetype": "text/x-scala",
   "name": "scala211",
   "nbconvert_exporter": "script",
   "pygments_lexer": "scala",
   "version": "2.11.11"
  }
 },
 "nbformat": 4,
 "nbformat_minor": 2
}
