{
 "cells": [
  {
   "cell_type": "markdown",
   "metadata": {},
   "source": [
    "# Functions\n",
    "\n",
    "Welcome back to the course! Today we're learning about functions in Scala. There's nothing scary about them - if you ever coded anything then you probably wrote at least a function in your developer life. Without other time wasted, let's jump into it:\n",
    "\n",
    "```scala\n",
    "def myFunction(x: Int, y: String): String = x + \" \" + y\n",
    "```\n",
    "\n",
    "Function definitions are preceded by the keyword `def`. The name of the function follows and then the parameter list. The parameter list contains zero or more parameters. A parameter is denoted by its name (e.g. `x`), followed by `:` and then its type (e.g. `Int`). The parameter list is enclosed within round braces `()` and its followed by the function's return type, again specified using the `:` followed by the actual type. The function body its separated by an equal `=` sign.\n",
    "\n",
    "Call your function by providing its parameters:\n",
    "```scala\n",
    "myFunction(2, \"hello\")\n",
    "```\n",
    "\n",
    "Your assignment is to define a function `sayMyName` which receives a `String` parameter and prints it to the console. Call it with different input values. Tip: to define a function that doesn't return a meaningful value, use the type `Unit` (equivalent of `void` from other programming languages)."
   ]
  },
  {
   "cell_type": "code",
   "execution_count": null,
   "metadata": {},
   "outputs": [],
   "source": [
    "// Solve the exercise in this cell."
   ]
  },
  {
   "cell_type": "markdown",
   "metadata": {},
   "source": [
    "### The Body is an Expression\n",
    "\n",
    "The function body is an expression. Remember the previous course on expressions? Back then we learned that the value of a code block is the value of its last expression. This is available for functions as well.\n",
    "\n",
    "```scala\n",
    "def myFunction(x: Int, y: String): String = {\n",
    "  val composed = x + \" and \" + y\n",
    "  val greetings = \"Hello, \"\n",
    "  greetings + composed\n",
    "}\n",
    "```\n",
    "\n",
    "Again, the final expression (last line) in our code block is the value of the block and of the function itself."
   ]
  },
  {
   "cell_type": "code",
   "execution_count": null,
   "metadata": {},
   "outputs": [],
   "source": [
    "// What is f(1)? What about f(5)?\n",
    "def f(x: Int): Int = {\n",
    "  1 * 2 * 3 * 4 * 5 * 6 * 7\n",
    "  7 + 6 + 5 + 4 + 3 + 2 + 1\n",
    "  1\n",
    "}"
   ]
  },
  {
   "cell_type": "markdown",
   "metadata": {},
   "source": [
    "### Functions in Functions\n",
    "\n",
    "Scala allows for functions to be defined inside other functions.\n",
    "\n",
    "```scala\n",
    "def isPrime(x: Int): Boolean = {\n",
    "  def isPrimeUntil(n: Int): Boolean =\n",
    "    if (n == 1) true\n",
    "    else (x % n != 0) && isPrimeUntil(n - 1)\n",
    "\n",
    "  isPrimeUntil(x / 2)\n",
    "}\n",
    "```\n",
    "\n",
    "This is nice when you want to keep local functionality encapsulated in the function itself, instead of polluting a larger scope. If you're familiar with OOP encapsulation, this function is actually compiled into a private function within the same scope as we'll see later."
   ]
  },
  {
   "cell_type": "markdown",
   "metadata": {},
   "source": [
    "### Type Inference\n",
    "\n",
    "You may remember from the first course about type inference. Back then we found out Scala is able to infer a type into our variable / value if we don't specify it explicitly. Well, let's see some examples:\n",
    "\n",
    "```scala\n",
    "val message = \"hello\"\n",
    "// the type is inferred from the right hand side so we end up with:\n",
    "val message: String = \"hello\"\n",
    "```\n",
    "\n",
    "What about more complex expressions?\n",
    "```scala\n",
    "val x = 2           // figures out that x is an Int\n",
    "val y = x + \"items\" // figures out that y is a String because concatenating an Int to a String results in a String\n",
    "```\n",
    "\n",
    "Imagine this works with functions as well! In most of the cases, you don't need to specify the return type of a function.\n",
    "\n",
    "### Exercises\n",
    "\n",
    "To get more used to functions, please define:\n",
    "1. A function that sums up two numbers. Extend it to be able to sum all the numbers within a range of integers.\n",
    "2. A function that computes the factorial of a number.\n",
    "\n",
    "Don't worry about these exercises being too easy for now - we just want to get used to defining and calling functions."
   ]
  },
  {
   "cell_type": "code",
   "execution_count": null,
   "metadata": {},
   "outputs": [],
   "source": [
    "// Solve exercises here."
   ]
  },
  {
   "cell_type": "code",
   "execution_count": null,
   "metadata": {},
   "outputs": [],
   "source": []
  }
 ],
 "metadata": {
  "kernelspec": {
   "display_name": "Scala",
   "language": "scala",
   "name": "scala"
  },
  "language_info": {
   "codemirror_mode": "text/x-scala",
   "file_extension": ".scala",
   "mimetype": "text/x-scala",
   "name": "scala211",
   "nbconvert_exporter": "script",
   "pygments_lexer": "scala",
   "version": "2.11.11"
  }
 },
 "nbformat": 4,
 "nbformat_minor": 2
}
