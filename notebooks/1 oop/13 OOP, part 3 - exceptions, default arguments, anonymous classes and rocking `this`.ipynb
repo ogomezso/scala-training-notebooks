{
 "cells": [
  {
   "cell_type": "markdown",
   "metadata": {},
   "source": [
    "# Object-Oriented Programming, part 3\n",
    "\n",
    "This notebook deals with the miscellaneous: we'll talk about handling failure in the \"standard\" JVM way in Scala, how to save time with method arguments, on-the-spot instantiating of abstract types, and enhancing the power of `this`."
   ]
  },
  {
   "cell_type": "markdown",
   "metadata": {},
   "source": [
    "## Exceptions\n",
    "\n",
    "If you've worked with Java, you know about them. If you haven't - those nasty things that crash your program are called exceptions:"
   ]
  },
  {
   "cell_type": "code",
   "execution_count": 1,
   "metadata": {
    "collapsed": true,
    "scrolled": true
   },
   "outputs": [
    {
     "ename": "",
     "evalue": "",
     "output_type": "error",
     "traceback": [
      "\u001b[31mjava.lang.NullPointerException\u001b[39m",
      "  $sess.cmd0Wrapper$Helper.<init>(\u001b[32mcmd0.sc\u001b[39m:\u001b[32m2\u001b[39m)",
      "  $sess.cmd0Wrapper.<init>(\u001b[32mcmd0.sc\u001b[39m:\u001b[32m79\u001b[39m)",
      "  $sess.cmd0$.<init>(\u001b[32mcmd0.sc\u001b[39m:\u001b[32m60\u001b[39m)",
      "  $sess.cmd0$.<clinit>(\u001b[32mcmd0.sc\u001b[39m:\u001b[32m-1\u001b[39m)"
     ]
    }
   ],
   "source": [
    "val x = null\n",
    "x.toString"
   ]
  },
  {
   "cell_type": "markdown",
   "metadata": {},
   "source": [
    "Exactly. As you can see, calling a method on a null reference is wrong, and the JVM, along with your running program, will crash. The technical term is that the JVM **throws** a runtime exception which nobody **catches**. So there's this pair of actions that the JVM can handle: throwing and catching exceptions.\n",
    "\n",
    "Exceptions have their own special place in the JVM's heart, but at their essence, **exceptions are instances of some special classes**. Their type hierarchy, at a very high level, looks like this:\n",
    "\n",
    "* `Throwable`, the mother of all things that will crash your program\n",
    "    * `Exception`, the mother of all **program-related** crashes, e.g. a file can't be found or you divide by zero\n",
    "        * `RuntimeException`, a special kind of exception whose catching is not mandatory\n",
    "            * our beloved `NullPointerException` is an example\n",
    "    * `Error`, the mother of all **JVM-related** crashes (as opposed to program-related), some examples:\n",
    "        * `StackOverflowError`\n",
    "        * `OutOfMemoryError`\n",
    "        \n",
    "Keep in mind: **exceptions are not a Scala-specific concept.** Scala works with exceptions because it operates on the Java Virtual Machine. Most Scala exceptions are actually already-defined Java exceptions."
   ]
  },
  {
   "cell_type": "markdown",
   "metadata": {},
   "source": [
    "### Throwing exceptions\n",
    "\n",
    "Formula: `throw` followed by _an instance of a `Throwable` type_. Example:"
   ]
  },
  {
   "cell_type": "code",
   "execution_count": 2,
   "metadata": {
    "collapsed": true
   },
   "outputs": [
    {
     "ename": "",
     "evalue": "",
     "output_type": "error",
     "traceback": [
      "\u001b[31mjava.lang.RuntimeException: this is an exception lol\u001b[39m",
      "  $sess.cmd1Wrapper$Helper.<init>(\u001b[32mcmd1.sc\u001b[39m:\u001b[32m1\u001b[39m)",
      "  $sess.cmd1Wrapper.<init>(\u001b[32mcmd1.sc\u001b[39m:\u001b[32m75\u001b[39m)",
      "  $sess.cmd1$.<init>(\u001b[32mcmd1.sc\u001b[39m:\u001b[32m60\u001b[39m)",
      "  $sess.cmd1$.<clinit>(\u001b[32mcmd1.sc\u001b[39m:\u001b[32m-1\u001b[39m)"
     ]
    }
   ],
   "source": [
    "throw new RuntimeException(\"this is an exception lol\")"
   ]
  },
  {
   "cell_type": "markdown",
   "metadata": {},
   "source": [
    "This is how you can intentionally crash the program. There are a lot of reasons to do it: \n",
    "* computation failures\n",
    "* resources not found\n",
    "* formats are incorrect \n",
    "* etc.\n",
    "\n",
    "Question: how does a method like below compile, since it doesn't return the type it's supposed to?"
   ]
  },
  {
   "cell_type": "code",
   "execution_count": 3,
   "metadata": {
    "scrolled": true
   },
   "outputs": [
    {
     "data": {
      "text/plain": [
       "defined \u001b[32mfunction\u001b[39m \u001b[36maFunnyMethod\u001b[39m"
      ]
     },
     "execution_count": 3,
     "metadata": {},
     "output_type": "execute_result"
    }
   ],
   "source": [
    "def aFunnyMethod: Int = throw new RuntimeException(\"no int for you!\")"
   ]
  },
  {
   "cell_type": "markdown",
   "metadata": {},
   "source": [
    "If you remember, throwing an exception is an expression which returns `Nothing`, and this can be used as a substitute for ANY type! "
   ]
  },
  {
   "cell_type": "markdown",
   "metadata": {},
   "source": [
    "### Catching exceptions\n",
    "\n",
    "If you throw an exception (or the JVM throws one), you as a programmer have the freedom to _catch_ it. The syntax goes like in the following example:"
   ]
  },
  {
   "cell_type": "code",
   "execution_count": 7,
   "metadata": {},
   "outputs": [
    {
     "data": {
      "text/plain": [
       "defined \u001b[32mfunction\u001b[39m \u001b[36mgetInt\u001b[39m\n",
       "\u001b[36mres6_1\u001b[39m: \u001b[32mAnyVal\u001b[39m = 42"
      ]
     },
     "execution_count": 7,
     "metadata": {},
     "output_type": "execute_result"
    }
   ],
   "source": [
    "def getInt(withExceptions: Boolean): Int = \n",
    "    if (withExceptions) throw new RuntimeException(\"No int for you!\")\n",
    "    else 42\n",
    "\n",
    "try {\n",
    "    getInt(false)\n",
    "} catch {\n",
    "    case e: NullPointerException => println(\"got an NPE\")\n",
    "    case e: RuntimeException => println(\"runtime exception\")\n",
    "    case _ => println(\"some other exception\")\n",
    "} finally {\n",
    "    2\n",
    "}"
   ]
  },
  {
   "cell_type": "markdown",
   "metadata": {},
   "source": [
    "So the syntax is \n",
    "\n",
    "    try {\n",
    "        // code that might throw an exception\n",
    "    } catch {\n",
    "        case e: ExceptionType1 => // code for catching ExceptionType1\n",
    "        case e: ExceptionType2 => // code for catching ExceptionType2\n",
    "        case _ => // code for catching anything else\n",
    "    } finally {\n",
    "        // an optional block of code that will be evaluated no matter what\n",
    "    }\n",
    "    \n",
    "The `try`-`catch`-`finally` is an expression (much like everything else) and will have\n",
    "* the return type of the `try` block in the case nothing is thrown\n",
    "* the return type of the `catch` case that is matched\n",
    "\n",
    "The `finally` block is only for side-effect operations that need to happen after the `try`-`catch` was evaluated. Examples: closing files, releasing sockets etc."
   ]
  },
  {
   "cell_type": "markdown",
   "metadata": {},
   "source": [
    "## Default method and constructor arguments"
   ]
  },
  {
   "cell_type": "markdown",
   "metadata": {},
   "source": [
    "This one is easy and it goes like this:\n",
    "\n",
    "Life is hard. We programmers have very hard lives. Sometimes life is so hard that a function might be called 99% of the time with the same parameters and yet we need to pass their values explicitly _every single darn time_.\n",
    "\n",
    "Luckily Scala saves us from this dreadful fate. Say we have a factorial function that we've worked so hard to get tail-recursive:"
   ]
  },
  {
   "cell_type": "code",
   "execution_count": 8,
   "metadata": {},
   "outputs": [
    {
     "data": {
      "text/plain": [
       "defined \u001b[32mfunction\u001b[39m \u001b[36mfactorial\u001b[39m"
      ]
     },
     "execution_count": 8,
     "metadata": {},
     "output_type": "execute_result"
    }
   ],
   "source": [
    "def factorial(x: Int, acc): Int = {\n",
    "  if (x <= 1) acc\n",
    "  else factorial(x - 1, x * acc)\n",
    "} "
   ]
  },
  {
   "cell_type": "markdown",
   "metadata": {},
   "source": [
    "In order to compute the factorial of a number, we'll always call it like `factorial(something, 1)`, which is not aesthetic and also annoying. So why don't we"
   ]
  },
  {
   "cell_type": "code",
   "execution_count": 9,
   "metadata": {},
   "outputs": [
    {
     "data": {
      "text/plain": [
       "defined \u001b[32mfunction\u001b[39m \u001b[36mfactorial\u001b[39m"
      ]
     },
     "execution_count": 9,
     "metadata": {},
     "output_type": "execute_result"
    }
   ],
   "source": [
    "def factorial(x: Int, acc: Int = 1): Int = {\n",
    "  if (x <= 1) acc\n",
    "  else factorial(x - 1, x * acc)\n",
    "}"
   ]
  },
  {
   "cell_type": "markdown",
   "metadata": {},
   "source": [
    "give `acc` a default value? In this way we'd only need to call `factorial(something)` and the second argument will be implied as `1`. Of course we can also explicitly call `factorial` with both arguments if we really need to.\n",
    "\n",
    "Smart question: what if we defined"
   ]
  },
  {
   "cell_type": "code",
   "execution_count": 10,
   "metadata": {},
   "outputs": [
    {
     "data": {
      "text/plain": [
       "defined \u001b[32mfunction\u001b[39m \u001b[36maFunnyFunction\u001b[39m"
      ]
     },
     "execution_count": 10,
     "metadata": {},
     "output_type": "execute_result"
    }
   ],
   "source": [
    "def aFunnyFunction(x: Int = 0, y: Int): Int = x + y"
   ]
  },
  {
   "cell_type": "markdown",
   "metadata": {},
   "source": [
    "Then what would `aFunnyFunction(2)` be? Which parameter would have the value `2`?"
   ]
  },
  {
   "cell_type": "code",
   "execution_count": 10,
   "metadata": {},
   "outputs": [
    {
     "name": "stderr",
     "output_type": "stream",
     "text": [
      "cmd10.sc:1: not enough arguments for method aFunnyFunction: (x: Int, y: Int)Int.\n",
      "Unspecified value parameter y.\n",
      "val res10 = aFunnyFunction(2)\n",
      "                          ^"
     ]
    },
    {
     "ename": "",
     "evalue": "",
     "output_type": "error",
     "traceback": [
      "Compilation Failed"
     ]
    }
   ],
   "source": [
    "aFunnyFunction(2)"
   ]
  },
  {
   "cell_type": "markdown",
   "metadata": {},
   "source": [
    "So of course the above fails. The compiler doesn't know which parameter has that value, since `x` is now a _leading_ argument. So the smart way to solve this is to _name_ your arguments when you call your function, so the compiler knows what's what:"
   ]
  },
  {
   "cell_type": "code",
   "execution_count": 14,
   "metadata": {},
   "outputs": [
    {
     "data": {
      "text/plain": [
       "\u001b[36mres13\u001b[39m: \u001b[32mInt\u001b[39m = \u001b[32m2\u001b[39m"
      ]
     },
     "execution_count": 14,
     "metadata": {},
     "output_type": "execute_result"
    }
   ],
   "source": [
    "aFunnyFunction(y = 2)"
   ]
  },
  {
   "cell_type": "markdown",
   "metadata": {},
   "source": [
    "One last thing: **the whole default and named argument scheme works for constructor arguments as well.**"
   ]
  },
  {
   "cell_type": "markdown",
   "metadata": {},
   "source": [
    "## `This`, level 2\n",
    "\n"
   ]
  },
  {
   "cell_type": "markdown",
   "metadata": {},
   "source": [
    "By now you should know what `this` is - the reference to the current instance on which on which we're calling a method or using a field.\n",
    "\n",
    "### Some good questions to ask\n",
    "1. Does `this` make sense for Scala `object`s? <br/>No, because there's never more than one instance of the Scala `object` in question, so `this` doesn't make a difference. However, the Scala language doesn't prevent you from using it.\n",
    "2. Does `this` make sense for traits or abstract classes, since they can't be instantiated directly?<br/>Nonsense, of course it makes sense! Even though abstract classes and traits can't be instantiated directly, their class descendants will be able to, so `this` will still refer to the current instance.\n",
    "3. Does `this` absolutely have to be used?<br/> Only if you need to break ambiguity, as in:"
   ]
  },
  {
   "cell_type": "code",
   "execution_count": 16,
   "metadata": {},
   "outputs": [
    {
     "data": {
      "text/plain": [
       "defined \u001b[32mclass\u001b[39m \u001b[36mA\u001b[39m"
      ]
     },
     "execution_count": 16,
     "metadata": {},
     "output_type": "execute_result"
    }
   ],
   "source": [
    "class A {\n",
    "    val x: Int = 0\n",
    "    def f(x: Int) {\n",
    "        // in general, these two print statements will show different values\n",
    "        println(x)\n",
    "        println(this.x)\n",
    "    }\n",
    "}"
   ]
  },
  {
   "cell_type": "markdown",
   "metadata": {},
   "source": [
    "### `def this`\n",
    "\n",
    "In translation: defining auxiliary constructors, or _overloading constructors_. As we discussed in part 1, the class \"header\"/\"definition\" is the class' constructor. We can define more constructors with other signatures by using `def this(...)`:"
   ]
  },
  {
   "cell_type": "code",
   "execution_count": 18,
   "metadata": {},
   "outputs": [
    {
     "data": {
      "text/plain": [
       "defined \u001b[32mclass\u001b[39m \u001b[36mRational\u001b[39m"
      ]
     },
     "execution_count": 18,
     "metadata": {},
     "output_type": "execute_result"
    }
   ],
   "source": [
    "class Rational(n: Int, d: Int) {\n",
    "\n",
    "    def this(d: Int) = this(1, d)\n",
    " \n",
    "    private[this] def this() = this(0)\n",
    "} \n"
   ]
  },
  {
   "cell_type": "markdown",
   "metadata": {},
   "source": [
    "Rules of playing:\n",
    "* an auxiliary constructor _must_ call another constructor first\n",
    "* only the primary constructor may call a super-constructor (by class definition using `extends`)\n",
    "* constructors may have restricted visibility (say, private constructors)\n",
    "\n",
    "The `[this]` in square brackets is called a visibility restrictor: `private[something]` means the visibility is restricted to `something`. In this case, it's `this` again - unneccessary, we know, but it's for show."
   ]
  },
  {
   "cell_type": "markdown",
   "metadata": {},
   "source": [
    "## Anonymous classes\n",
    "\n",
    "Finally, now that we talked about constructing things in funny ways, let us hit an example directly:"
   ]
  },
  {
   "cell_type": "code",
   "execution_count": 19,
   "metadata": {},
   "outputs": [
    {
     "data": {
      "text/plain": [
       "defined \u001b[32mtrait\u001b[39m \u001b[36mAnimal\u001b[39m\n",
       "\u001b[36mfunnyAnimal\u001b[39m: \u001b[32mAnimal\u001b[39m = $sess.cmd18Wrapper$Helper$$anon$1@5b942741"
      ]
     },
     "execution_count": 19,
     "metadata": {},
     "output_type": "execute_result"
    }
   ],
   "source": [
    "trait Animal {\n",
    "    def eat: Unit\n",
    "}\n",
    "\n",
    "val funnyAnimal: Animal = new Animal {\n",
    "    override def eat: Unit = \"ahahahahah\"\n",
    "}"
   ]
  },
  {
   "cell_type": "markdown",
   "metadata": {},
   "source": [
    "It's exactly what it looks like. We instantiated a trait. Shock.\n",
    "\n",
    "Only that it's not an actual trait that we instantiated. A slightly more complex operation was unfolding:\n",
    "* the compiler cut out the part that said `Animal { override def... }` and created a class with a funny secret name like `$sess.cmd18Wrapper$Helper$$anon$1` and made that `extend` Animal\n",
    "* instantiated the funny-named class\n",
    "* attached the reference to that instance to `funnyAnimal`\n",
    "\n",
    "This code is called _instantiating an anonymous class_. This works brilliantly in practice when we don't want to bother creating a special class that we would only use once in our code with little fuss - instantiating `Runnable`s for parallel applications works like a charm. \n",
    "\n",
    "All you need to to is\n",
    "* be a good kid and pass in the constructor arguments to the class you're instantiating\n",
    "* implement all abstract methods\n",
    "\n",
    "**Instantiating anonymous classes works well with traits, abstract classes and non-abstract classes alike.**"
   ]
  },
  {
   "cell_type": "code",
   "execution_count": null,
   "metadata": {},
   "outputs": [],
   "source": []
  }
 ],
 "metadata": {
  "kernelspec": {
   "display_name": "Scala",
   "language": "scala",
   "name": "scala"
  },
  "language_info": {
   "codemirror_mode": "text/x-scala",
   "file_extension": ".scala",
   "mimetype": "text/x-scala",
   "name": "scala211",
   "nbconvert_exporter": "script",
   "pygments_lexer": "scala",
   "version": "2.11.11"
  }
 },
 "nbformat": 4,
 "nbformat_minor": 2
}
