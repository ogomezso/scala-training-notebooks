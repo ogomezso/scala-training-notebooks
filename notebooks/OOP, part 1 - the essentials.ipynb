{
 "cells": [
  {
   "cell_type": "markdown",
   "metadata": {},
   "source": [
    "# Object-Oriented Programming, part 1: the essentials"
   ]
  },
  {
   "cell_type": "markdown",
   "metadata": {},
   "source": [
    "## Classes\n",
    "\n",
    "One of the fundamental aspects of programming is being able to define your own data structures. In Scala (as in many other languages) we use _classes_."
   ]
  },
  {
   "cell_type": "code",
   "execution_count": 1,
   "metadata": {},
   "outputs": [
    {
     "data": {
      "text/plain": [
       "defined \u001b[32mclass\u001b[39m \u001b[36mPerson\u001b[39m"
      ]
     },
     "execution_count": 1,
     "metadata": {},
     "output_type": "execute_result"
    }
   ],
   "source": [
    "class Person // a simple class"
   ]
  },
  {
   "cell_type": "markdown",
   "metadata": {},
   "source": [
    "That simple statement above declares a simple class, we named it Person.\n",
    "\n",
    "But it's not very useful - the purpose of using classes is to have them _store_ things (data) and _do_ things (behavior)."
   ]
  },
  {
   "cell_type": "code",
   "execution_count": 2,
   "metadata": {},
   "outputs": [
    {
     "data": {
      "text/plain": [
       "defined \u001b[32mclass\u001b[39m \u001b[36mPerson\u001b[39m"
      ]
     },
     "execution_count": 2,
     "metadata": {},
     "output_type": "execute_result"
    }
   ],
   "source": [
    "class Person(name: String, age: Int)"
   ]
  },
  {
   "cell_type": "markdown",
   "metadata": {},
   "source": [
    "Now we're talking. A Person is now defined in terms of two things: a name (String) and age (Int). These things are called _parameters_, similar to function parameters. Notice the syntax for parameters is identical to the way you write parameters for functions."
   ]
  },
  {
   "cell_type": "markdown",
   "metadata": {},
   "source": [
    "### Instantiating classes\n",
    "\n",
    "Cool, you now know how to define a class. The whole point of classes, as stated above, is to organize data and behavior, so we need instances of these classes - concrete layouts in memory with the structure defined by the class. Instances are commonly called \"objects\" in the general scope of object-oriented programming, but in Scala the keyword `object` has a special meaning so we're going to be extra careful."
   ]
  },
  {
   "cell_type": "code",
   "execution_count": 3,
   "metadata": {},
   "outputs": [
    {
     "data": {
      "text/plain": [
       "\u001b[36mamazingJim\u001b[39m: \u001b[32mPerson\u001b[39m = $sess.cmd1Wrapper$Helper$Person@2b43b576"
      ]
     },
     "execution_count": 3,
     "metadata": {},
     "output_type": "execute_result"
    }
   ],
   "source": [
    "val amazingJim = new Person(\"Jim\", 22)"
   ]
  },
  {
   "cell_type": "markdown",
   "metadata": {},
   "source": [
    "Cool, you created an instance. Notice how `amazingJim` looks something like `$sess.cmd1Wrapper$Helper$Person@2b43b576` - that's how the JVM naturally prints things, we'll make them look better shortly.\n",
    "\n",
    "Instantiating is also known as _constructing_ instances. The class \"header\" you saw above - `class Person(name: String, age: Int)` is called a **constructor**. Whenever you create instances of `Person`, the constructor is called."
   ]
  },
  {
   "cell_type": "markdown",
   "metadata": {},
   "source": [
    "### Parameters and Fields\n",
    "\n",
    "So all of this probably looks similar to what you've written before. Now let's run"
   ]
  },
  {
   "cell_type": "code",
   "execution_count": 3,
   "metadata": {},
   "outputs": [
    {
     "name": "stderr",
     "output_type": "stream",
     "text": [
      "cmd3.sc:1: value age is not a member of cmd3Wrapper.this.cmd2.cmd1.wrapper.Person\n",
      "val amazingAge = amazingJim.age\n",
      "                            ^"
     ]
    },
    {
     "ename": "",
     "evalue": "",
     "output_type": "error",
     "traceback": [
      "Compilation Failed"
     ]
    }
   ],
   "source": [
    "val amazingAge = amazingJim.age"
   ]
  },
  {
   "cell_type": "markdown",
   "metadata": {},
   "source": [
    "Darn. That thing doesn't compile. You likely expected `age` to be a member of `Person`, but it's not. **It's a parameter**. This is the first lesson of today. **Class parameters are not fields.**\n",
    "\n",
    "To make them visible as a field, you need to put `val` or `var` before the class parameters."
   ]
  },
  {
   "cell_type": "code",
   "execution_count": 8,
   "metadata": {},
   "outputs": [
    {
     "data": {
      "text/plain": [
       "defined \u001b[32mclass\u001b[39m \u001b[36mPerson\u001b[39m\n",
       "\u001b[36mamazingJim\u001b[39m: \u001b[32mwrapper\u001b[39m.\u001b[32mwrapper\u001b[39m.\u001b[32mPerson\u001b[39m = $sess.cmd7Wrapper$Helper$Person@553628ca\n",
       "\u001b[36mamazingAge\u001b[39m: \u001b[32mInt\u001b[39m = \u001b[32m22\u001b[39m"
      ]
     },
     "execution_count": 8,
     "metadata": {},
     "output_type": "execute_result"
    }
   ],
   "source": [
    "class Person(val name: String, var age: Int)\n",
    "val amazingJim = new Person(\"Jim\", 22)\n",
    "val amazingAge = amazingJim.age"
   ]
  },
  {
   "cell_type": "markdown",
   "metadata": {},
   "source": [
    "And all is well in the world. \n",
    "<br/>We never stressed too much, but the syntax is the dot-style notation you've surely seen in other languages, as in `instance.member`.\n",
    "<br/><span style=\"color:blue\">Advice: as with normal values, try to use `val` for class members as much as possible.<br/>Also, keep in mind that both parameters and fields are visible in the entire class definition.</span>\n",
    "\n",
    "You can also add additional members inside the class definition:"
   ]
  },
  {
   "cell_type": "code",
   "execution_count": 13,
   "metadata": {},
   "outputs": [
    {
     "data": {
      "text/plain": [
       "defined \u001b[32mclass\u001b[39m \u001b[36mLife\u001b[39m\n",
       "\u001b[36mlife\u001b[39m: \u001b[32mwrapper\u001b[39m.\u001b[32mwrapper\u001b[39m.\u001b[32mLife\u001b[39m = $sess.cmd12Wrapper$Helper$Life@1c708163\n",
       "\u001b[36mmeaningOfLife\u001b[39m: \u001b[32mInt\u001b[39m = \u001b[32m42\u001b[39m"
      ]
     },
     "execution_count": 13,
     "metadata": {},
     "output_type": "execute_result"
    }
   ],
   "source": [
    "class Life {\n",
    "    val meaning: Int = 42\n",
    "}\n",
    "\n",
    "val life = new Life\n",
    "val meaningOfLife = life.meaning"
   ]
  },
  {
   "cell_type": "markdown",
   "metadata": {},
   "source": [
    "### Methods\n",
    "\n",
    "Adding methods is just adding functions inside the class' body:"
   ]
  },
  {
   "cell_type": "code",
   "execution_count": 11,
   "metadata": {},
   "outputs": [
    {
     "data": {
      "text/plain": [
       "defined \u001b[32mclass\u001b[39m \u001b[36mPerson\u001b[39m\n",
       "\u001b[36mamazingJim\u001b[39m: \u001b[32mwrapper\u001b[39m.\u001b[32mwrapper\u001b[39m.\u001b[32mPerson\u001b[39m = $sess.cmd10Wrapper$Helper$Person@5fd338a3\n",
       "\u001b[36mamazingAge\u001b[39m: \u001b[32mInt\u001b[39m = \u001b[32m23\u001b[39m"
      ]
     },
     "execution_count": 11,
     "metadata": {},
     "output_type": "execute_result"
    }
   ],
   "source": [
    "class Person(val name: String, var age: Int) {\n",
    "    \n",
    "    def happyBirthday(): Unit = {\n",
    "        age += 1\n",
    "    }\n",
    "}\n",
    "\n",
    "val amazingJim = new Person(\"Jim\", 22)\n",
    "amazingJim.happyBirthday\n",
    "val amazingAge = amazingJim.age"
   ]
  },
  {
   "cell_type": "markdown",
   "metadata": {},
   "source": [
    "Same style of \"accessing\" a method like you would for a plain member (with the dot notation `instance.method(...)`). \n",
    "<br/>For parameter-less methods you can omit the parentheses when calling them, like we did for the above example."
   ]
  },
  {
   "cell_type": "markdown",
   "metadata": {},
   "source": [
    "### Overloading\n",
    "\n",
    "Long story short: you can have multiple methods with the same name but with a different number of parameters, parameters of different types and/or different return types."
   ]
  },
  {
   "cell_type": "code",
   "execution_count": 37,
   "metadata": {},
   "outputs": [
    {
     "data": {
      "text/plain": [
       "defined \u001b[32mclass\u001b[39m \u001b[36mPerson\u001b[39m"
      ]
     },
     "execution_count": 37,
     "metadata": {},
     "output_type": "execute_result"
    }
   ],
   "source": [
    "class Person {\n",
    "    def say(): String = \"Hello!\"\n",
    "    def say(something: String): String = something\n",
    "    def say(something: String, circumstances: String): Unit =\n",
    "        println(\"Given \" + circumstances + \", I say: \" + something)\n",
    "}"
   ]
  },
  {
   "cell_type": "markdown",
   "metadata": {},
   "source": [
    "All the methods above are overloaded methods.\n",
    "\n",
    "Beware, though: **a method is NOT a valid overload and will fail to compile if only the return type is different**. Think about it: if you had two `say()` methods with no parameters, one returning `String`, one returning `Unit`, when you call `say()`, how would you know which one is called?! It's natural for the compiler to prevent you from doing it."
   ]
  },
  {
   "cell_type": "markdown",
   "metadata": {},
   "source": [
    "### `This`\n",
    "\n",
    "A fundamental concept of object-oriented programming is the concept of `this`. You've probably worked on object-oriented languages before so we won't stress this too much, but more like a memory refresher: `this` is the instance on which we're currently operating. Simple example:"
   ]
  },
  {
   "cell_type": "code",
   "execution_count": 16,
   "metadata": {},
   "outputs": [
    {
     "data": {
      "text/plain": [
       "defined \u001b[32mclass\u001b[39m \u001b[36mPerson\u001b[39m\n",
       "\u001b[36mamazingJim\u001b[39m: \u001b[32mwrapper\u001b[39m.\u001b[32mwrapper\u001b[39m.\u001b[32mPerson\u001b[39m = $sess.cmd15Wrapper$Helper$Person@2b2b1bd5\n",
       "\u001b[36mmasterWindu\u001b[39m: \u001b[32mwrapper\u001b[39m.\u001b[32mwrapper\u001b[39m.\u001b[32mPerson\u001b[39m = $sess.cmd15Wrapper$Helper$Person@7178ecb3\n",
       "\u001b[36mres15_3\u001b[39m: \u001b[32mString\u001b[39m = \u001b[32m\"Jim, 22\"\u001b[39m\n",
       "\u001b[36mres15_4\u001b[39m: \u001b[32mString\u001b[39m = \u001b[32m\"Windu, 45\"\u001b[39m"
      ]
     },
     "execution_count": 16,
     "metadata": {},
     "output_type": "execute_result"
    }
   ],
   "source": [
    "class Person(val name: String, var age: Int) {\n",
    "    def prettyPrint(): String = this.name + \", \" + this.age\n",
    "}\n",
    "\n",
    "val amazingJim = new Person(\"Jim\", 22)\n",
    "val masterWindu = new Person(\"Windu\", 45)\n",
    "\n",
    "// each prettyPrint works with each instance's members\n",
    "amazingJim.prettyPrint\n",
    "masterWindu.prettyPrint"
   ]
  },
  {
   "cell_type": "markdown",
   "metadata": {},
   "source": [
    "You also probably know or intuit this already, but whenever inside a class you use its own fields or call its own methods, you're always implying the use of `this`:"
   ]
  },
  {
   "cell_type": "code",
   "execution_count": 40,
   "metadata": {},
   "outputs": [
    {
     "data": {
      "text/plain": [
       "defined \u001b[32mclass\u001b[39m \u001b[36mPerson\u001b[39m"
      ]
     },
     "execution_count": 40,
     "metadata": {},
     "output_type": "execute_result"
    }
   ],
   "source": [
    "class Person(val name: String, var age: Int) {\n",
    "    // equivalent (actually identical) to this.name + \", \" + this.age\n",
    "    def prettyPrint(): String = name + \", \" + age\n",
    "}"
   ]
  },
  {
   "cell_type": "markdown",
   "metadata": {},
   "source": [
    "## Method notation\n",
    "\n",
    "### Infix\n",
    "\n",
    "Scala is a funny language. Take a look at this:"
   ]
  },
  {
   "cell_type": "code",
   "execution_count": 1,
   "metadata": {},
   "outputs": [
    {
     "data": {
      "text/plain": [
       "defined \u001b[32mclass\u001b[39m \u001b[36mPerson\u001b[39m\n",
       "\u001b[36mmary\u001b[39m: \u001b[32mPerson\u001b[39m = $sess.cmd0Wrapper$Helper$Person@1a36bc31\n",
       "\u001b[36mres0_2\u001b[39m: \u001b[32mBoolean\u001b[39m = \u001b[32mfalse\u001b[39m"
      ]
     },
     "execution_count": 1,
     "metadata": {},
     "output_type": "execute_result"
    }
   ],
   "source": [
    "class Person(name: String, favoriteMovie: String) {\n",
    "    def likes(movie: String): Boolean = movie.equals(favoriteMovie)\n",
    "}\n",
    "\n",
    "val mary: Person = new Person(\"Mary\", \"The Godfather\")\n",
    "\n",
    "// watch this\n",
    "mary likes \"Die Hard\""
   ]
  },
  {
   "cell_type": "markdown",
   "metadata": {},
   "source": [
    "It's so \"natural\". Mary likes \"Die Hard\". It's false in this case but you get the point:\n",
    "\n",
    "`mary likes \"Die Hard\"` is equivalent to `mary.likes(\"Die Hard\")`.\n",
    "\n",
    "This is **infix notation**. All methods with one (and only one) parameter can be infixed like that. You can easily think of other things which are naturally infixed, like math operators. **They work in the exact same way**. That is, when you say `1 + 2` you're actually saying `1.+(2)`, because the operator `+` is actually a single parameter _method_ on the `Int` class.\n",
    "\n",
    "You read that right: `+` is a method. In fact, you can define your own `+` methods:"
   ]
  },
  {
   "cell_type": "code",
   "execution_count": 2,
   "metadata": {},
   "outputs": [
    {
     "data": {
      "text/plain": [
       "defined \u001b[32mclass\u001b[39m \u001b[36mPerson\u001b[39m\n",
       "\u001b[36mmary\u001b[39m: \u001b[32mwrapper\u001b[39m.\u001b[32mwrapper\u001b[39m.\u001b[32mPerson\u001b[39m = $sess.cmd1Wrapper$Helper$Person@ff20a\n",
       "\u001b[36mjimmie\u001b[39m: \u001b[32mwrapper\u001b[39m.\u001b[32mwrapper\u001b[39m.\u001b[32mPerson\u001b[39m = $sess.cmd1Wrapper$Helper$Person@1e2d9a54\n",
       "\u001b[36mres1_3\u001b[39m: \u001b[32mString\u001b[39m = \u001b[32m\"Mary and Jimmie sitting in a tree...\"\u001b[39m"
      ]
     },
     "execution_count": 2,
     "metadata": {},
     "output_type": "execute_result"
    }
   ],
   "source": [
    "class Person(val name: String) {\n",
    "    def +(another: Person): String = name + \" and \" + another.name + \" sitting in a tree...\"\n",
    "}\n",
    "\n",
    "val mary: Person = new Person(\"Mary\")\n",
    "val jimmie: Person = new Person(\"Jimmie\")\n",
    "\n",
    "mary + jimmie"
   ]
  },
  {
   "cell_type": "markdown",
   "metadata": {},
   "source": [
    "Remember this: **You have way more freedom in naming your methods than in most programming languages.** You can define your own `?!` or `##` or `!@!` or `wtf?!` methods (or \"operators\") if you want. In fact, may frameworks (such as language parsers, Akka and many others) in fact use these operators which are more in line with their mathematical counterparts."
   ]
  },
  {
   "cell_type": "markdown",
   "metadata": {},
   "source": [
    "### Prefix\n",
    "\n",
    "Now that we've raised your appetite for shorthand operators, let's move our focus to unary operators such as"
   ]
  },
  {
   "cell_type": "code",
   "execution_count": 12,
   "metadata": {},
   "outputs": [
    {
     "data": {
      "text/plain": [
       "\u001b[36mres11_0\u001b[39m: \u001b[32mInt\u001b[39m = \u001b[32m-1\u001b[39m\n",
       "\u001b[36mres11_1\u001b[39m: \u001b[32mBoolean\u001b[39m = \u001b[32mfalse\u001b[39m\n",
       "\u001b[36mres11_2\u001b[39m: \u001b[32mInt\u001b[39m = \u001b[32m2147483647\u001b[39m"
      ]
     },
     "execution_count": 12,
     "metadata": {},
     "output_type": "execute_result"
    }
   ],
   "source": [
    "-1\n",
    "!true\n",
    "~(1 << 31)"
   ]
  },
  {
   "cell_type": "markdown",
   "metadata": {},
   "source": [
    "You can implement your own unary operators like above, on your own classes. This is pretty rare in practice, but it's good (and fun) to know. Unary operators, say `-` (minus) are rewritten by the Scala compiler as calling a method prefixed with `unary_`. The same examples above, rewritten:\n"
   ]
  },
  {
   "cell_type": "code",
   "execution_count": 15,
   "metadata": {
    "collapsed": true
   },
   "outputs": [
    {
     "data": {
      "text/plain": [
       "\u001b[36mres14_0\u001b[39m: \u001b[32mInt\u001b[39m = \u001b[32m-1\u001b[39m\n",
       "\u001b[36mres14_1\u001b[39m: \u001b[32mBoolean\u001b[39m = \u001b[32mfalse\u001b[39m\n",
       "\u001b[36mres14_2\u001b[39m: \u001b[32mInt\u001b[39m = \u001b[32m2147483647\u001b[39m"
      ]
     },
     "execution_count": 15,
     "metadata": {},
     "output_type": "execute_result"
    }
   ],
   "source": [
    "1.unary_-\n",
    "true.unary_!\n",
    "(1 << 31).unary_~"
   ]
  },
  {
   "cell_type": "markdown",
   "metadata": {},
   "source": [
    "And you can add these to your own classes as well:"
   ]
  },
  {
   "cell_type": "code",
   "execution_count": 20,
   "metadata": {},
   "outputs": [
    {
     "data": {
      "text/plain": [
       "defined \u001b[32mclass\u001b[39m \u001b[36mPerson\u001b[39m\n",
       "\u001b[36mmary\u001b[39m: \u001b[32mwrapper\u001b[39m.\u001b[32mwrapper\u001b[39m.\u001b[32mPerson\u001b[39m = $sess.cmd19Wrapper$Helper$Person@42a31a9a\n",
       "\u001b[36mres19_2\u001b[39m: \u001b[32mString\u001b[39m = \u001b[32m\"Mary, what the heck?!\"\u001b[39m"
      ]
     },
     "execution_count": 20,
     "metadata": {},
     "output_type": "execute_result"
    }
   ],
   "source": [
    "class Person(name: String) {\n",
    "    // pay close attention to the \":\" separated from the method name by a whitespace\n",
    "    // otherwise the Scala compiler will think that the whole \"unary_!:\" is the name of the method\n",
    "    // (a small price to pay for method naming freedom...)\n",
    "    def unary_! : String = name + \", what the heck?!\"\n",
    "}\n",
    "val mary = new Person(\"Mary\")\n",
    "\n",
    "!mary"
   ]
  },
  {
   "cell_type": "markdown",
   "metadata": {},
   "source": [
    "**Keep in mind that only a few operators are supported for prefix notation. They are `+`, `-`, `!` and `~`**."
   ]
  },
  {
   "cell_type": "markdown",
   "metadata": {},
   "source": [
    "### Postfix\n",
    "\n",
    "Sweet!\n",
    "\n",
    "There's a final and simple feature that gives Scala this natural-language feeling:"
   ]
  },
  {
   "cell_type": "code",
   "execution_count": 24,
   "metadata": {
    "scrolled": true
   },
   "outputs": [
    {
     "data": {
      "text/plain": [
       "defined \u001b[32mclass\u001b[39m \u001b[36mPerson\u001b[39m\n",
       "\u001b[36mmary\u001b[39m: \u001b[32mwrapper\u001b[39m.\u001b[32mwrapper\u001b[39m.\u001b[32mPerson\u001b[39m = $sess.cmd23Wrapper$Helper$Person@3ec0472\n",
       "\u001b[36mres23_2\u001b[39m: \u001b[32mBoolean\u001b[39m = \u001b[32mtrue\u001b[39m\n",
       "\u001b[36mres23_3\u001b[39m: \u001b[32mBoolean\u001b[39m = \u001b[32mtrue\u001b[39m"
      ]
     },
     "execution_count": 24,
     "metadata": {},
     "output_type": "execute_result"
    }
   ],
   "source": [
    "class Person(name: String) {\n",
    "    def isAlive: Boolean = true\n",
    "}\n",
    "\n",
    "val mary = new Person(\"Mary\")\n",
    "\n",
    "// normal way of calling isAlive\n",
    "mary.isAlive\n",
    "// funny way of calling isAlive\n",
    "mary isAlive"
   ]
  },
  {
   "cell_type": "markdown",
   "metadata": {},
   "source": [
    "So you see how `mary isAlive` is equivalent to `mary.isAlive`. This translation is done by the compiler and is called **postfix** notation. It's fun to know about it. We generally recommend sticking to the dot notation in practice as it's safer against human error and it's not a big deal whether you put in a dot or a space between the instance and the method you're calling.\n",
    "\n",
    "Keep in mind that **only methods with no parameters can be called in a postfix fashion**."
   ]
  },
  {
   "cell_type": "markdown",
   "metadata": {},
   "source": [
    "### The `apply` method\n",
    "\n",
    "Methods with the name `apply` are special. Best described by example:"
   ]
  },
  {
   "cell_type": "code",
   "execution_count": 33,
   "metadata": {},
   "outputs": [
    {
     "data": {
      "text/plain": [
       "defined \u001b[32mclass\u001b[39m \u001b[36mPerson\u001b[39m\n",
       "\u001b[36mmary\u001b[39m: \u001b[32mwrapper\u001b[39m.\u001b[32mwrapper\u001b[39m.\u001b[32mPerson\u001b[39m = $sess.cmd32Wrapper$Helper$Person@3f234c88\n",
       "\u001b[36mres32_2\u001b[39m: \u001b[32mString\u001b[39m = \u001b[32m\"Hi, my name is Mary and I am 27 years old.\"\u001b[39m\n",
       "\u001b[36mres32_3\u001b[39m: \u001b[32mString\u001b[39m = \u001b[32m\"Hi, my name is Mary and I am 27 years old.\"\u001b[39m"
      ]
     },
     "execution_count": 33,
     "metadata": {},
     "output_type": "execute_result"
    }
   ],
   "source": [
    "class Person(name: String, age: Int) {\n",
    "    def apply(): String = \"Hi, my name is \" + name + \" and I am \" + age + \" years old.\"\n",
    "}\n",
    "\n",
    "val mary = new Person(\"Mary\", 27)\n",
    "mary.apply()\n",
    "mary()"
   ]
  },
  {
   "cell_type": "markdown",
   "metadata": {},
   "source": [
    "As you see above, we wrote a small method `apply` with no parameters and which produces a greeting. The funny thing is that now, having defined `apply`, I can \"call\" `mary` (the Person instance) like I would call a function. The way this works is that _the compiler searches for `apply` defined in the class Person_ and replaces the simple `()` with an appropriate `apply` call.\n",
    "\n",
    "**Keep `apply` in mind as we'll make extensive use of it throughout the course (starting very shortly!).** It's also very often used in practice."
   ]
  },
  {
   "cell_type": "markdown",
   "metadata": {},
   "source": [
    "## Scala Objects\n",
    "\n",
    "OK, that was all nice and sweet. You now know how to declare and use classes and their _instances_, how to use parameters, fields, `this`, methods, method notation and `apply`.\n",
    "\n",
    "Another fundamental aspect of object-oriented programming is the ability to use _class_-level functionality. As an analogy, think about `static` methods (or their equivalent) in other languages. A `static` method doesn't need the presence of an instance of a class to be able to use it, because it applies to the _concept_ defined by the class. For example, if for the class `Person` we have a \"static\" method `canFly`, we call that as `Person.canFly` (instead of `mary.canFly` although we can do that if we wanted) as it applies to all `Person`s.\n",
    "\n",
    "Scala is different from other languages in that **Scala does not have static methods**. \n",
    "\n",
    "It has something even better."
   ]
  },
  {
   "cell_type": "code",
   "execution_count": 30,
   "metadata": {},
   "outputs": [
    {
     "data": {
      "text/plain": [
       "defined \u001b[32mobject\u001b[39m \u001b[36mPerson\u001b[39m\n",
       "\u001b[36mres29_1\u001b[39m: \u001b[32mBoolean\u001b[39m = \u001b[32mfalse\u001b[39m\n",
       "\u001b[36mres29_2\u001b[39m: \u001b[32mInt\u001b[39m = \u001b[32m2\u001b[39m"
      ]
     },
     "execution_count": 30,
     "metadata": {},
     "output_type": "execute_result"
    }
   ],
   "source": [
    "object Person {\n",
    "    val N_EYES = 2\n",
    "    def canFly: Boolean = false\n",
    "}\n",
    "\n",
    "Person.canFly\n",
    "Person.N_EYES"
   ]
  },
  {
   "cell_type": "markdown",
   "metadata": {},
   "source": [
    "The definition above is a Scala `object`. It's similar to a class, in that you can define `val`s and `var`s inside and you can write methods, such as `canFly` in the example above. As you can see, the way you call methods and reference values is strikingly similar to the way you call \"static\" things in classes in other languages: `Person.canFly`.\n",
    "\n",
    "The way Scala is designed is that `object`s are **single-instance types**: remember the singleton pattern. In scala when you say\n",
    "\n",
    "`object Person`\n",
    "\n",
    "you're implementing a singleton with _one line of code_. So there's this extra benefit as well.\n",
    "\n",
    "The way we use objects is either to have guaranteed singletons, or as **companions**. Companions are objects defined in the same file as a class with the same name:"
   ]
  },
  {
   "cell_type": "code",
   "execution_count": 29,
   "metadata": {},
   "outputs": [
    {
     "data": {
      "text/plain": [
       "defined \u001b[32mclass\u001b[39m \u001b[36mPerson\u001b[39m\n",
       "defined \u001b[32mobject\u001b[39m \u001b[36mPerson\u001b[39m"
      ]
     },
     "execution_count": 29,
     "metadata": {},
     "output_type": "execute_result"
    }
   ],
   "source": [
    "class Person\n",
    "object Person"
   ]
  },
  {
   "cell_type": "markdown",
   "metadata": {},
   "source": [
    "**Companions have the special property that they can access each other's private members.** You've probably encountered the concept of \"private\" in other languages. We'll discuss more when we talk about inheritance.\n",
    "\n",
    "Companions are an incredibly used pattern in practice. If you're curious to browse open-source Scala frameworks, you'll likely stumble upon some companions.\n",
    "\n",
    "The way Scala is designed with classes and object leads us to an interesting conclusion:\n",
    "<br/><div style=\"color:red\">**Scala is more object-oriented than most other languages (Java included).**</div>\n",
    "\n",
    "That's because all Scala code (except maybe imports) runs on _instances of classes_ or on _objects_. A truly object-oriented language. Which is funny, because Scala was designed as a functional language (and it's very successful at it as you'll see in the Functional Programming sections).\n",
    "\n",
    "But we digress."
   ]
  },
  {
   "cell_type": "code",
   "execution_count": 34,
   "metadata": {},
   "outputs": [
    {
     "data": {
      "text/plain": [
       "defined \u001b[32mclass\u001b[39m \u001b[36mPerson\u001b[39m\n",
       "defined \u001b[32mobject\u001b[39m \u001b[36mPerson\u001b[39m\n",
       "\u001b[36mmary\u001b[39m: \u001b[32mwrapper\u001b[39m.\u001b[32mwrapper\u001b[39m.\u001b[32mPerson\u001b[39m = $sess.cmd33Wrapper$Helper$Person@432e27e9\n",
       "\u001b[36mjim\u001b[39m: \u001b[32mwrapper\u001b[39m.\u001b[32mwrapper\u001b[39m.\u001b[32mPerson\u001b[39m = $sess.cmd33Wrapper$Helper$Person@d215697\n",
       "\u001b[36mbobbie\u001b[39m: \u001b[32mwrapper\u001b[39m.\u001b[32mwrapper\u001b[39m.\u001b[32mPerson\u001b[39m = $sess.cmd33Wrapper$Helper$Person@18cac2b2"
      ]
     },
     "execution_count": 34,
     "metadata": {},
     "output_type": "execute_result"
    }
   ],
   "source": [
    "class Person(name: String) {\n",
    "    def chooseNameForKid: String = \"Bobbie\"\n",
    "}\n",
    "\n",
    "object Person {\n",
    "    def from(mother: Person, father: Person): Person = new Person(mother.chooseNameForKid)\n",
    "}\n",
    "\n",
    "val mary = new Person(\"Mary\")\n",
    "val jim = new Person(\"Jim\")\n",
    "val bobbie = Person.from(mary, jim)"
   ]
  },
  {
   "cell_type": "markdown",
   "metadata": {},
   "source": [
    "If you continue to make the analogy to static methods in other languages, `Person.from` is called a _factory method_. Factory is an important design pattern in object-oriented programming as that allows the construction of instances in a controlled manner. In fact, it's common practice to use `apply` as a factory method:"
   ]
  },
  {
   "cell_type": "code",
   "execution_count": 35,
   "metadata": {},
   "outputs": [
    {
     "data": {
      "text/plain": [
       "defined \u001b[32mobject\u001b[39m \u001b[36mPerson\u001b[39m\n",
       "\u001b[36mbobbie\u001b[39m: \u001b[32mPerson\u001b[39m = $sess.cmd33Wrapper$Helper$Person@31a41772"
      ]
     },
     "execution_count": 35,
     "metadata": {},
     "output_type": "execute_result"
    }
   ],
   "source": [
    "object Person {\n",
    "    def apply(mother: Person, father: Person): Person = new Person(mother.chooseNameForKid)\n",
    "}\n",
    "\n",
    "val bobbie = Person(mary, jim)"
   ]
  }
 ],
 "metadata": {
  "kernelspec": {
   "display_name": "Scala",
   "language": "scala",
   "name": "scala"
  },
  "language_info": {
   "codemirror_mode": "text/x-scala",
   "file_extension": ".scala",
   "mimetype": "text/x-scala",
   "name": "scala211",
   "nbconvert_exporter": "script",
   "pygments_lexer": "scala",
   "version": "2.11.11"
  }
 },
 "nbformat": 4,
 "nbformat_minor": 2
}
