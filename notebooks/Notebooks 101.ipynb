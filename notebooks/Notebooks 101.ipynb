{
 "cells": [
  {
   "cell_type": "markdown",
   "metadata": {},
   "source": [
    "### Notebooks 101\n",
    "\n",
    "Hello and welcome to your first notebook. The purpose of this lesson is to familiarize a bit with the Jupyter interface.\n",
    "\n",
    "This whole formatted text paragraph forms a cell. A notebook consists of multiple cells which can be run sequentially. Each cell has a type. We will only use the _markdown_ and _code_ cell types.\n",
    "\n",
    "A _markdown_ cell will be used to give you documentation - for example some lesson notes. We don't want to keep you shifting through browser tabs because that wouldn't be so fun, that's why most of the information you will learn about in the video will be available here as well.\n",
    "\n",
    "The _code_ cell will contain actual Scala code. You can edit it, run it, test it and so on. Besides the usual examples which should help you better understand a certain concept you will be provided at certain points some simple exercices which will further help you enhance your skills.\n",
    "\n",
    "---\n",
    "\n",
    "Let's get to the code! If you haven't seen any lesson yet don't worry that you don't undertand the code - this is just an introductory section meant to show you how to run stuff.\n",
    "\n",
    "When finished, hit the __Run__ button and this text should magically turned into something more beautiful."
   ]
  },
  {
   "cell_type": "code",
   "execution_count": 1,
   "metadata": {},
   "outputs": [
    {
     "data": {
      "text/plain": [
       "\u001b[36mx\u001b[39m: \u001b[32mInt\u001b[39m = \u001b[32m3\u001b[39m\n",
       "\u001b[36mres0_1\u001b[39m: \u001b[32mInt\u001b[39m = \u001b[32m9\u001b[39m"
      ]
     },
     "execution_count": 1,
     "metadata": {},
     "output_type": "execute_result"
    }
   ],
   "source": [
    "val x: Int = 3\n",
    "x * x\n",
    "// Here yet? Hit the run button again and see the output below."
   ]
  },
  {
   "cell_type": "markdown",
   "metadata": {},
   "source": [
    "### Kudos\n",
    "\n",
    "That's it! Quite simple, eh?! Now let's get to the real deal. When ready click in the left upper side on _File -> Open..._ and select the first notebook in the first section.\n",
    "\n",
    "Happy coding! :)\n",
    "\n",
    "Oh, don't forget to __Run__ me as well."
   ]
  },
  {
   "cell_type": "code",
   "execution_count": null,
   "metadata": {},
   "outputs": [],
   "source": []
  }
 ],
 "metadata": {
  "kernelspec": {
   "display_name": "Scala",
   "language": "scala",
   "name": "scala"
  },
  "language_info": {
   "codemirror_mode": "text/x-scala",
   "file_extension": ".scala",
   "mimetype": "text/x-scala",
   "name": "scala211",
   "nbconvert_exporter": "script",
   "pygments_lexer": "scala",
   "version": "2.11.11"
  }
 },
 "nbformat": 4,
 "nbformat_minor": 2
}
