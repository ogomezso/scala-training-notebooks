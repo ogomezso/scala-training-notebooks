{
 "cells": [
  {
   "cell_type": "markdown",
   "metadata": {},
   "source": [
    "# Call-by-Name vs. Call-by-Value\n",
    "\n",
    "Welcome back in our last lecture from the introductory section. In this lesson we will learn about the different ways in which function arguments are evaluated based on their definition.\n",
    "\n",
    "### Call-by-Value\n",
    "\n",
    "Traditionally we define a function as:\n",
    "\n",
    "```scala\n",
    "def cbv(x: Int) = {\n",
    "  ...\n",
    "}\n",
    "```\n",
    "\n",
    "This is known as call-by-value. The reason we say the function is called by value is that its argument `x` is evaluated exactly once, right before the function is called. This means that whatever expression we'll pass in as `x`, it will always be evaluated before the call, so:\n",
    "\n",
    "```scala\n",
    "cbv(1 + 2 + 3) = cbv(6) // x is evaluated to 6\n",
    "```\n",
    "\n",
    "### Call-by-Name\n",
    "\n",
    "Scala allows function arguments to be passed by name as well. To do that, you'll have to use a slightly different syntax - the type must be preceded by `=>`. So a function might look like this:\n",
    "\n",
    "```scala\n",
    "def cbn(x: => Int) = {\n",
    "  ...\n",
    "}\n",
    "```\n",
    "\n",
    "Cool, right? So how does that help you? At the first sight, you might not spot any difference. Now let's change the two functions' body a bit so you get a better idea. First, let us define a `getX` function that sleeps for 10 seconds and then returns a random value."
   ]
  },
  {
   "cell_type": "code",
   "execution_count": null,
   "metadata": {},
   "outputs": [],
   "source": [
    "def getX(): Int = {\n",
    "  println(\"Getting x...\")\n",
    "  Thread.sleep(10000)\n",
    "  3\n",
    "}"
   ]
  },
  {
   "cell_type": "markdown",
   "metadata": {},
   "source": [
    "Perfect! Now let's define the two functions, a call-by-value variant and a call-by-name one."
   ]
  },
  {
   "cell_type": "code",
   "execution_count": null,
   "metadata": {},
   "outputs": [],
   "source": [
    "// This will wait for `x` to be evaluated, so it takes around 10 seconds when called.\n",
    "def cbv(x: Int) = {\n",
    "  println(\"cbv\")\n",
    "}\n",
    "\n",
    "// This doesn't use `x` at all so it won't be evaluated; it should run instantly.\n",
    "def cbn(x: => Int) = {\n",
    "  println(\"cbn\")\n",
    "}"
   ]
  },
  {
   "cell_type": "code",
   "execution_count": null,
   "metadata": {},
   "outputs": [],
   "source": [
    "// Experiment with the two functions by changing their body to use x (e.g. based on an if-expression).\n",
    "cbv(getX()) // takes a while\n",
    "cbn(getX()) // runs instantly"
   ]
  },
  {
   "cell_type": "markdown",
   "metadata": {},
   "source": [
    "### Takeaway\n",
    "\n",
    "Awesome, so we spotted the difference. We now know that the call-by-value arguments of a function are evaluated exactly once before entering the function. The call-by-name arguments are evaluated only when they are needed inside the function's body. They are also recomputed everytime (try replacing 3 with a random value to confirm that).\n",
    "\n",
    "The CBN syntax is used when evaluating the arguments is an expensive thing. Or when you need them to be re-evaluated each time they're used. Imagine a situation that implies passing an arguments that might result in an exception being thrown. You might wanna' delay the evaluation up to the point you're sure there will be no failure."
   ]
  },
  {
   "cell_type": "code",
   "execution_count": null,
   "metadata": {},
   "outputs": [],
   "source": []
  }
 ],
 "metadata": {
  "kernelspec": {
   "display_name": "Scala",
   "language": "scala",
   "name": "scala"
  },
  "language_info": {
   "codemirror_mode": "text/x-scala",
   "file_extension": ".scala",
   "mimetype": "text/x-scala",
   "name": "scala211",
   "nbconvert_exporter": "script",
   "pygments_lexer": "scala",
   "version": "2.11.11"
  }
 },
 "nbformat": 4,
 "nbformat_minor": 2
}
