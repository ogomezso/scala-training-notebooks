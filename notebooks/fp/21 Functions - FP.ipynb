{
 "cells": [
  {
   "cell_type": "markdown",
   "metadata": {},
   "source": [
    "# Functions\n",
    "\n",
    "Welcome to the first lecture on the functional programming section. This lecture introduces functions, clears the confusion around functions and methods (defs) and also introduces more advanced concepts around functions in Scala.\n",
    "\n",
    "### Anatomy of a Function\n",
    "\n",
    "In a functional programming language people like to work or get more out of functions. For example we might want to pass a function as a parameter or simply use a function like any other value. With this in mind, we'd like functions to be ordinary first-class elements in our programming language.\n",
    "\n",
    "Cool, cool but how to we do that? Scala works on top of the JVM which was designed obviously for Java. The first class elements in Java are objects (where an object is an instance of some class). So how do we level-up functions?\n",
    "\n",
    "Traditionally you would have perhaps a singleton object that would represent a function and you would pass around that function wherever it's required. In Java, a really simplified version could look like this: \n",
    "\n",
    "```java\n",
    "interface Function<A, B> {\n",
    "    public B apply(A elem);\n",
    "}\n",
    "\n",
    "class Double implements Function<Integer, Integer> {\n",
    "    public static final Double INSTANCE = new Double();\n",
    "    private Double() {}\n",
    "    public Integer apply(Integer elem) {\n",
    "        return elem * 2;\n",
    "    }\n",
    "}\n",
    "```\n",
    "\n",
    "The problem with this (in Java at least) is that it doesn't really \"feel\" like a function when you call it:\n",
    "\n",
    "```java\n",
    "public class Main {\n",
    "    public static void main(String[] args) {\n",
    "        Double double = Double.INSTANCE;\n",
    "        double.apply(2); // Not that natural, we'd like something like this: double(2)\n",
    "    }\n",
    "}\n",
    "```\n",
    "\n",
    "Fortunately Scala has a nice way of solving this problem. Re-thinking our implementation in Scala, we would end up with:\n",
    "\n",
    "```scala\n",
    "object Double {\n",
    "  def apply(elem: Int): Int = elem * 2\n",
    "}\n",
    "```\n",
    "\n",
    "That's all you need to do because we're using singleton objects. And using it is quite simple as well:\n",
    "\n",
    "```scala\n",
    "object Main extends App {\n",
    "  Double(2) // Feels more natural\n",
    "}\n",
    "```\n",
    "\n",
    "How is this possible? Remember apply? `apply` is the method that makes objects callable. So when an object has an apply method, the Scala compiler will automatically replace any calls of the form `instace(param)` with `instance.apply(param)`.\n",
    "\n",
    "This brings us to the next point - functions in Scala are instances of objects which define an apply method. Their base trait actually looks like this:\n",
    "\n",
    "```scala\n",
    "trait Function1[-A, +B] {\n",
    "  def apply(elem: A): B\n",
    "}\n",
    "```\n",
    "\n",
    "Just ignore the variance (-, +) on types for now. We'll have an entire section dedicated to it later. There are predefined traits for functions with up to 22 parameters. That one looks quite ugly:\n",
    "\n",
    "```scala\n",
    "trait Function22[-T1, -T2, ..., -T22, +R] {\n",
    "  def apply(x1: T1, x2: T2, ..., x22: T22): R\n",
    "}\n",
    "```\n",
    "\n",
    "So bottom line here is that in Scala all functions are instances of `Function1`, ..., `Function22` traits. The compiler heavy-lifts what it founds as \"callable code\" into actual method calls of the apply method defined on your instances. Methods are just `def`s - every `def` defines a method. That's it.\n",
    "\n",
    "Before we move on to our first exercises, let us create a succ function that gives us the next consecutive integer of our argument:"
   ]
  },
  {
   "cell_type": "code",
   "execution_count": null,
   "metadata": {},
   "outputs": [],
   "source": [
    "val succ: Function1[Int, Int] = new Function1[Int, Int] {\n",
    "  override def apply(elem: Int): Int = elem + 1\n",
    "}\n",
    "succ(2)"
   ]
  },
  {
   "cell_type": "markdown",
   "metadata": {},
   "source": [
    "Scala has a nice syntactic sugar for function types. The following types are equivalent:\n",
    "\n",
    "```scala\n",
    "Function1[Int, Int]\n",
    "Int => Int\n",
    "\n",
    "Function2[Int, Int, Int]\n",
    "(Int, Int) => Int\n",
    "```\n",
    "\n",
    "And so on, you get the point here. You will use this syntax quite often. For example, we are building a client library that performs HTTP calls. If you think about a `RequestHandler`, it's actually just a function that receives an `HttpRequest` and returns an `HttpResponse`:\n",
    "\n",
    "```scala\n",
    "class HttpRequest\n",
    "class HttpResponse\n",
    "\n",
    "trait RequestHandler extends (HttpRequest => HttpResponse)\n",
    "```\n",
    "\n",
    "Throughout this lecture, we'll find other places where this is useful as well."
   ]
  },
  {
   "cell_type": "markdown",
   "metadata": {},
   "source": [
    "### Exercises\n",
    "\n",
    "Ok, now for our first exercises we just want to get used to this syntax. Define the following functions as instances of `FunctionN`, where `N` is the number of arguments of the function. Use the syntactic sugar to specify the type of the function:\n",
    "\n",
    "1. Define the function `isEven` that takes an Integer and returns true if it's an even number.\n",
    "2. Define the function `add` that takes two Integers and returns their sum.\n",
    "3. Re-define the factorial method as a function. Use tail-recursivity for the actual implementation."
   ]
  },
  {
   "cell_type": "code",
   "execution_count": null,
   "metadata": {},
   "outputs": [],
   "source": [
    "// Solve exercises below"
   ]
  },
  {
   "cell_type": "markdown",
   "metadata": {},
   "source": [
    "### Anonymous Functions\n",
    "\n",
    "In practice we don't use this syntax too often. Instead, Scala allows you to define anonymous functions. They look like lambdas from any programming language in general - in fact, you'll often hear about anonymous lambdas which refer to the same thing.\n",
    "\n",
    "```scala\n",
    "// They can span on multiple lines if you need them to.\n",
    "val succ: Int => Int = { x =>\n",
    "  x + 1\n",
    "}\n",
    "\n",
    "// But one-liners are ok as well for simple things.\n",
    "val succ: Int => Int = { x => x + 1 }\n",
    "```\n",
    "\n",
    "Don't forget to put the type specification, otherwise the compiler will be confused:"
   ]
  },
  {
   "cell_type": "code",
   "execution_count": null,
   "metadata": {},
   "outputs": [],
   "source": [
    "val succ = { x => x + 1 }"
   ]
  },
  {
   "cell_type": "markdown",
   "metadata": {},
   "source": [
    "But if the type specification is not good for you, you can always give the compiler a hint and it will figure out the rest:\n",
    "\n",
    "```scala\n",
    "val succ = { x: Int => x + 1 }\n",
    "```\n",
    "\n",
    "Oh, and if you have multiple arguments, put them between round brackets `()`:\n",
    "\n",
    "```scala\n",
    "val mod = { (x: Int, y: Int) => x % y }\n",
    "```\n",
    "\n",
    "Practice again with the same syntax. We really want to get use to it so take all the exercises above and redefine the functions to be anonymous functions (lambdas)."
   ]
  },
  {
   "cell_type": "markdown",
   "metadata": {},
   "source": [
    "### Higher-Order Functions\n",
    "\n",
    "Ok, right now you're probably wondering: \"How does this help me? Why does it make sense to create instances of functions?\" No worries, your answer is what follows.\n",
    "\n",
    "With functions being instances of objects we could pass them on to other functions, as arguments. Or we could even return them as values. That's why we say that functions are first-class citizens in Scala - they are just like any other object instance. You can return them as results or pass them as arguments.\n",
    "\n",
    "All functions that receive another function as a parameter or that return functions as their results are said to be higher-order functions. You may not see it yet, but this is a very powerful tool.\n",
    "\n",
    "Consider the `map` function, available on List:\n",
    "\n",
    "```scala\n",
    "trait List[+A] {\n",
    "  def map[B](f: A => B): List[B]\n",
    "}\n",
    "```\n",
    "\n",
    "Notice how it receives another function `f` as a parameter. This makes `map` a higher-order function. Now why are higher-order functions so cool? Well, they enable new layers of abstraction. Let's try it:"
   ]
  },
  {
   "cell_type": "code",
   "execution_count": null,
   "metadata": {},
   "outputs": [],
   "source": [
    "val numbers = List(1, 2, 3)\n",
    "numbers.map(x => x + 1)"
   ]
  },
  {
   "cell_type": "markdown",
   "metadata": {},
   "source": [
    "Ok, what the hell happened there? The map function is pretty cool. It uses the argument function `f` to map all elements `x` in the list to their `f(x)` values. Take a moment and notice how we passed an anonymous function as the argument of map.\n",
    "\n",
    "And there's an even shorter way to define an anonymous function - you can just do:"
   ]
  },
  {
   "cell_type": "code",
   "execution_count": null,
   "metadata": {},
   "outputs": [],
   "source": [
    "val numbers = List(1, 2, 3)\n",
    "numbers.map(_ + 1)"
   ]
  },
  {
   "cell_type": "markdown",
   "metadata": {},
   "source": [
    "That's the shortest you can get in Scala. Be careful though, as everything is inferred by the compiler and is contextual. The compiler can \"guess\" the simple things you need, but not things such as:"
   ]
  },
  {
   "cell_type": "code",
   "execution_count": null,
   "metadata": {},
   "outputs": [],
   "source": [
    "// Nope, not gonna' work.\n",
    "val add = _ + _"
   ]
  },
  {
   "cell_type": "code",
   "execution_count": null,
   "metadata": {},
   "outputs": [],
   "source": [
    "// Again, give it a small hint.\n",
    "val add: (Int, Int) => Int = _ + _\n",
    "add(2, 3)"
   ]
  },
  {
   "cell_type": "markdown",
   "metadata": {},
   "source": [
    "Higher-order functions are found in all collections. They are very useful to provide abstractions over arbitrary types. We'll learn more higher-order functions in the Collections notebook.\n",
    "\n",
    "### Curried Functions\n",
    "\n",
    "Curried functions are often thought of as functions with multiple parameter lists. Yes, Scala allows defining multiple parameter lists. For example, the function add can be re-written as:"
   ]
  },
  {
   "cell_type": "code",
   "execution_count": null,
   "metadata": {},
   "outputs": [],
   "source": [
    "def add(x: Int)(y: Int): Int = x + y"
   ]
  },
  {
   "cell_type": "markdown",
   "metadata": {},
   "source": [
    "The type of this function is `Int => Int => Int` or a function that receives an integer and returns another function which receives an integer and returns an integer. Inception, right?\n",
    "\n",
    "Curried functions enable further specializations. Using our add function defined above, we can re-define our function succ simply as:"
   ]
  },
  {
   "cell_type": "code",
   "execution_count": null,
   "metadata": {},
   "outputs": [],
   "source": [
    "def succ(x: Int): Int = add(1)(x)"
   ]
  },
  {
   "cell_type": "markdown",
   "metadata": {},
   "source": [
    "That's it! Before we can define our own higher-order / curried functions it would be a good idea to experiment with a few existing ones. Check out the next notebooks which focus on specific higher-order functions or collections and try them out!"
   ]
  },
  {
   "cell_type": "code",
   "execution_count": null,
   "metadata": {},
   "outputs": [],
   "source": []
  }
 ],
 "metadata": {
  "kernelspec": {
   "display_name": "Scala",
   "language": "scala",
   "name": "scala"
  },
  "language_info": {
   "codemirror_mode": "text/x-scala",
   "file_extension": ".scala",
   "mimetype": "text/x-scala",
   "name": "scala211",
   "nbconvert_exporter": "script",
   "pygments_lexer": "scala",
   "version": "2.11.11"
  }
 },
 "nbformat": 4,
 "nbformat_minor": 2
}
