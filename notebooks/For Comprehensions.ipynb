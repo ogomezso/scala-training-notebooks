{
 "cells": [
  {
   "cell_type": "markdown",
   "metadata": {},
   "source": [
    "# For Comprehensions\n",
    "\n",
    "Last time we introduced a lot of concepts around functions - higher-order functions, anonymous functions and others. Today we'll be focusing 3 higher-order functions which are very used in Scala. The functions we will be looking at are present on all collections in Scala and even more, but we will use Lists for our examples and exercises.\n",
    "\n",
    "### map\n",
    "\n",
    "We kind of know what `map` stands for. It maps applies a function to all elements of a collection and returns a new collection with the results. Its general definition is:\n",
    "\n",
    "```scala\n",
    "sealed abstract class List[+A] {\n",
    "  def map[B](f: A => B): List[B]\n",
    "}\n",
    "```\n",
    "\n",
    "We can take a list of numbers and increment each one for example:"
   ]
  },
  {
   "cell_type": "code",
   "execution_count": null,
   "metadata": {},
   "outputs": [],
   "source": [
    "val numbers = (1 to 10).toList\n",
    "numbers.map(_ + 1)"
   ]
  },
  {
   "cell_type": "markdown",
   "metadata": {},
   "source": [
    "### Exercises\n",
    "\n",
    "You have the numbers from 1 to 10. Map them to get the following results:\n",
    "\n",
    "1. The numbers from 10 to 100, or each number in the list multiplied by 10.\n",
    "2. The square of each number in the list.\n",
    "3. The string representation of each number."
   ]
  },
  {
   "cell_type": "code",
   "execution_count": null,
   "metadata": {},
   "outputs": [],
   "source": [
    "// Solve exercises below."
   ]
  },
  {
   "cell_type": "markdown",
   "metadata": {},
   "source": [
    "### filter\n",
    "\n",
    "filter is easy to digest - it filters a collection of elements based on an argument function.\n",
    "\n",
    "```scala\n",
    "sealed abstract class List[+A] {\n",
    "  def filter(f: A => Boolean): List[A]\n",
    "}\n",
    "```\n",
    "\n",
    "To filter out even numbers:"
   ]
  },
  {
   "cell_type": "code",
   "execution_count": null,
   "metadata": {},
   "outputs": [],
   "source": [
    "numbers.filter(_ % 2 == 0)"
   ]
  },
  {
   "cell_type": "markdown",
   "metadata": {},
   "source": [
    "### Exercises\n",
    "\n",
    "On the same numbers as above, we want to find out:\n",
    "\n",
    "1. The numbers which are powers of two.\n",
    "2. The prime numbers.\n",
    "3. The square of each even number. Use both map and filter here."
   ]
  },
  {
   "cell_type": "code",
   "execution_count": null,
   "metadata": {},
   "outputs": [],
   "source": [
    "// Solve exercises below."
   ]
  },
  {
   "cell_type": "markdown",
   "metadata": {},
   "source": [
    "### flatMap\n",
    "\n",
    "This one is similar to map, but the argument function is different. It takes a function that maps an element of a collection into another collection. In the end it concatenates the results:\n",
    "\n",
    "```scala\n",
    "sealed abstract class List[+A] {\n",
    "  def flatMap[B](f: A => List[B]): List[B]\n",
    "}\n",
    "```\n",
    "\n",
    "To map each number into a pair of itself and its negative:"
   ]
  },
  {
   "cell_type": "code",
   "execution_count": null,
   "metadata": {},
   "outputs": [],
   "source": [
    "numbers.flatMap(x => List(-x, x))"
   ]
  },
  {
   "cell_type": "markdown",
   "metadata": {},
   "source": [
    "### Exercises\n",
    "\n",
    "On the same numbers as above, we want:\n",
    "\n",
    "* The list of numbers and their squares for all odd numbers. (1, 1, 3, 9, 5, 25, ...)"
   ]
  },
  {
   "cell_type": "code",
   "execution_count": null,
   "metadata": {},
   "outputs": [],
   "source": [
    "// Solve exercises below."
   ]
  },
  {
   "cell_type": "markdown",
   "metadata": {},
   "source": [
    "### foreach\n",
    "\n",
    "Foreach is used if you need to do any side-effect operations and don't care about the result type. For example, you can print all the numbers in the list:"
   ]
  },
  {
   "cell_type": "code",
   "execution_count": null,
   "metadata": {},
   "outputs": [],
   "source": [
    "numbers.foreach(println)"
   ]
  },
  {
   "cell_type": "markdown",
   "metadata": {},
   "source": [
    "### For Comprehensions\n",
    "\n",
    "For comprehensions are syntactic sugar over `map`, `flatMap`, `filter` and `foreach` chain calls. All for-comprehensions boil down to these functions. The general syntax is:\n",
    "\n",
    "```scala\n",
    "for {\n",
    "  x <- generator\n",
    "  y <- generator if predicate\n",
    "} yield {\n",
    "  foo(x, y)\n",
    "}\n",
    "```\n",
    "\n",
    "For comprehensions start with the keyword `for`. The generators on the right-hand side are the collections you're iterating on (in our case it would be the value `numbers`). Each of these generators can be filtered using the if-syntax shown above. Finally, `yield` is the keyword used to specify that you want to return a result and it's followed by an expression that's executed for each pair of elements.\n",
    "\n",
    "Re-writing the first two examples with for-comprehensions:"
   ]
  },
  {
   "cell_type": "code",
   "execution_count": null,
   "metadata": {},
   "outputs": [],
   "source": [
    "for (x <- numbers) yield x + 1\n",
    "for (x <- numbers if x % 2 == 0) yield x"
   ]
  },
  {
   "cell_type": "markdown",
   "metadata": {},
   "source": [
    "For comprehensions are useful to keep the code easier to read when having complicated chained calls of `map`, `flatMap` and `filter`. The following expressions yield the same results:"
   ]
  },
  {
   "cell_type": "code",
   "execution_count": null,
   "metadata": {},
   "outputs": [],
   "source": [
    "// No for-comprehensions - hard to read.\n",
    "List(1, 2, 3)\n",
    "  .filter(_ % 2 != 0)\n",
    "  .flatMap { x =>\n",
    "    List(4, 5, 6).map(y => x * y)\n",
    "  }\n",
    "\n",
    "// With for-comprehensions, easier to read.\n",
    "for {\n",
    "  x <- List(1, 2, 3) if x % 2 != 0\n",
    "  y <- List(4, 5, 6)\n",
    "} yield x * y"
   ]
  },
  {
   "cell_type": "markdown",
   "metadata": {},
   "source": [
    "### Exercises\n",
    "\n",
    "Re-write your previous exercises using for-comprehensions."
   ]
  },
  {
   "cell_type": "code",
   "execution_count": null,
   "metadata": {},
   "outputs": [],
   "source": []
  }
 ],
 "metadata": {
  "kernelspec": {
   "display_name": "Scala",
   "language": "scala",
   "name": "scala"
  },
  "language_info": {
   "codemirror_mode": "text/x-scala",
   "file_extension": ".scala",
   "mimetype": "text/x-scala",
   "name": "scala211",
   "nbconvert_exporter": "script",
   "pygments_lexer": "scala",
   "version": "2.11.11"
  }
 },
 "nbformat": 4,
 "nbformat_minor": 2
}
